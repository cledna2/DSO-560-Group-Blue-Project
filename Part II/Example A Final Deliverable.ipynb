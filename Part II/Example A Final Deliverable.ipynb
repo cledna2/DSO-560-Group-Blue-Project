{
 "cells": [
  {
   "cell_type": "code",
   "execution_count": 1,
   "metadata": {},
   "outputs": [
    {
     "name": "stderr",
     "output_type": "stream",
     "text": [
      "//anaconda3/lib/python3.7/site-packages/fuzzywuzzy/fuzz.py:11: UserWarning: Using slow pure-python SequenceMatcher. Install python-Levenshtein to remove this warning\n",
      "  warnings.warn('Using slow pure-python SequenceMatcher. Install python-Levenshtein to remove this warning')\n"
     ]
    }
   ],
   "source": [
    "import pandas as pd\n",
    "import numpy as np\n",
    "import re\n",
    "from sklearn.metrics.pairwise import cosine_similarity\n",
    "from sklearn.feature_extraction.text import TfidfVectorizer\n",
    "from fuzzywuzzy import fuzz"
   ]
  },
  {
   "cell_type": "code",
   "execution_count": 2,
   "metadata": {},
   "outputs": [],
   "source": [
    "outfits = pd.read_csv('outfit_combinations.csv')"
   ]
  },
  {
   "cell_type": "code",
   "execution_count": 3,
   "metadata": {},
   "outputs": [],
   "source": [
    "# Outfit compiler for fuzzywuzzy\n",
    "def outfit_compiler_fuzzy(text):\n",
    "    # pull product_id from input\n",
    "    product_id = re.search(r'\\(([^)]+)', text).group(1)\n",
    "    # get fuzzywuzzy score between input and all product ids\n",
    "    outfits['fuzzy'] = outfits['product_id'].apply(lambda x:fuzz.partial_ratio(x, text))\n",
    "    # find product_id with max fuzzywuzzy score\n",
    "    found_product = outfits[outfits['fuzzy'] == outfits['fuzzy'].max()].iloc[0,1]\n",
    "    # found_product_desc takes found_product and puts it  in the same format as the input\n",
    "    found_product_desc = outfits[outfits['product_id'] == found_product].iloc[0,2] + ': ' + outfits[outfits['product_id'] == found_product].iloc[0,3] + ' ' + outfits[outfits['product_id'] == found_product].iloc[0,4] + ' (' + outfits[outfits['product_id'] == found_product].iloc[0,1] + ')'\n",
    "    if product_id != found_product: # if the input isn't in the outfits df\n",
    "        print('Product ID not found--did you mean', found_product_desc, '?\\n')\n",
    "    outfit_list = outfits['outfit_id'][outfits['product_id'] == found_product] # get list of all outfits where product id shows up\n",
    "    outfit_num = 1 #to print the outfit number\n",
    "    # iterate through each outfit\n",
    "    for outfit in outfit_list:\n",
    "        outfit_size = outfits[outfits['outfit_id'] == outfit].shape[0] #get how many products in the outfit\n",
    "        print('Outfit Recommendation', outfit_num)\n",
    "        outfit_num +=1\n",
    "        # print each piece in the outfit\n",
    "        print(found_product_desc) #print the input as the first product in the outfit\n",
    "        for i in range(outfit_size): #print the rest of the products in the outfit\n",
    "            if (outfits[outfits['outfit_id'] == outfit].iloc[i,1] != found_product):\n",
    "                piece = outfits[outfits['outfit_id'] == outfit].iloc[i,2] + ': ' + outfits[outfits['outfit_id'] == outfit].iloc[i,3] + ' ' + outfits[outfits['outfit_id'] == outfit].iloc[i,4] + ' (' + outfits[outfits['outfit_id'] == outfit].iloc[i,1] + ')'\n",
    "                print(piece)\n",
    "        print('\\n')"
   ]
  },
  {
   "cell_type": "code",
   "execution_count": 4,
   "metadata": {},
   "outputs": [],
   "source": [
    "# Tfidf outfit compiler with fuzzywuzzy\n",
    "def outfit_compiler_final(text):\n",
    "    text = text\n",
    "    tokens = outfits['product_id']\n",
    "    vectorizer = TfidfVectorizer()\n",
    "    X = vectorizer.fit_transform(tokens)\n",
    "    terms = vectorizer.get_feature_names()\n",
    "    # pull product_id from text\n",
    "    product_id = re.search(r'\\(([^)]+)', text).group(1)\n",
    "    Q = vectorizer.transform([product_id]) # vectorize the query\n",
    "    results=cosine_similarity(X,Q).reshape((-1,1))\n",
    "    if(results.sum() >0):\n",
    "    #Where ever cosine similarity is a direct match we tried to find index of that row\n",
    "        boolArr = (results == 1)\n",
    "        index = np.where(boolArr)[0]\n",
    "    # get list of outfits associated with product_id\n",
    "        found_product = outfits.iloc[index,1].reset_index(drop=True)[0]\n",
    "    #get outfit that involve this product\n",
    "        found_product_outfit = outfits.iloc[index,0]\n",
    "        #print(found_product_outfit) testing output\n",
    "    # found_product_desc takes found_product and puts it  in the same format as the input\n",
    "        found_product_desc = outfits[outfits['product_id'] == found_product].iloc[0,2] + ': ' + outfits[outfits['product_id'] == found_product].iloc[0,3] + ' ' + outfits[outfits['product_id'] == found_product].iloc[0,4] + ' (' + outfits[outfits['product_id'] == found_product].iloc[0,1] + ')'\n",
    "        #print(found_product_desc) testing output\n",
    "        outfit_list = outfits['outfit_id'][outfits['product_id'] == found_product] # get list of all outfits where product id shows up\n",
    "        outfit_num = 1 #to print the outfit number\n",
    "    # iterate through each outfit\n",
    "        for outfit in outfit_list:\n",
    "            outfit_size = outfits[outfits['outfit_id'] == outfit].shape[0] #get how many products in the outfit\n",
    "            print('Outfit Recommendation', outfit_num)\n",
    "            outfit_num +=1\n",
    "        # print each piece in the outfit\n",
    "            print(found_product_desc) #print the input as the first product in the outfit\n",
    "            for i in range(outfit_size): #print the rest of the products in the outfit\n",
    "                if (outfits[outfits['outfit_id'] == outfit].iloc[i,1] != found_product):\n",
    "                    piece = outfits[outfits['outfit_id'] == outfit].iloc[i,2] + ': ' + outfits[outfits['outfit_id'] == outfit].iloc[i,3] + ' ' + outfits[outfits['outfit_id'] == outfit].iloc[i,4] + ' (' + outfits[outfits['outfit_id'] == outfit].iloc[i,1] + ')'\n",
    "                    print(piece)\n",
    "            print('\\n')\n",
    "    else:\n",
    "        outfit_compiler_fuzzy(text)\n",
    "    #print('Product ID not found--did you mean', found_product_desc, '?')"
   ]
  },
  {
   "cell_type": "code",
   "execution_count": 5,
   "metadata": {},
   "outputs": [],
   "source": [
    "test_wrong = 'something random that maybe I would want (23049nnvlsjerou293094kljd)'\n",
    "test1 = 'bottom: Eileen Fisher Slim Knit Skirt (01DMBRYVA2P5H24WK0HTK4R0A1)'\n",
    "test2 = 'shoe: Tory Burch Penelope Mid Cap Toe Pump (01DMBRYVA2ZFDYRYY5TRQZJTBD)'"
   ]
  },
  {
   "cell_type": "code",
   "execution_count": 6,
   "metadata": {},
   "outputs": [
    {
     "name": "stdout",
     "output_type": "stream",
     "text": [
      "Product ID not found--did you mean accessory2: Loewe Woven Fringe Open-Knit Wool Cardigan (01DVRYN4B93DG09MF4YS8P5PSJ) ?\n",
      "\n",
      "Outfit Recommendation 1\n",
      "accessory2: Loewe Woven Fringe Open-Knit Wool Cardigan (01DVRYN4B93DG09MF4YS8P5PSJ)\n",
      "accessory1: BY FAR Jamie Mini Duchesse-Satin and Croc-Effect Leather Shoulder Bag (01DT2DA9XY52F7XQH552ZJW43K)\n",
      "onepiece: Ulla Johnson Rosalie Tiered Cotton-Silk Blend Dress (01DVRYJHEHWV94XKY2F9HFE601)\n",
      "shoe: Prada Mary Jane Mules (01DVS0C77R86TSCW59G1KNXP72)\n",
      "\n",
      "\n",
      "Outfit Recommendation 2\n",
      "accessory2: Loewe Woven Fringe Open-Knit Wool Cardigan (01DVRYN4B93DG09MF4YS8P5PSJ)\n",
      "accessory1: BY FAR Jamie Mini Duchesse-Satin and Croc-Effect Leather Shoulder Bag (01DT2DA9XY52F7XQH552ZJW43K)\n",
      "shoe: Jimmy Choo Romy 100 suede pumps (01DVA80YRD3A05GQDNZ93TVVVX)\n",
      "onepiece: Ulla Johnson Rosalie Tiered Cotton-Silk Blend Dress (01DVRYJHEHWV94XKY2F9HFE601)\n",
      "\n",
      "\n",
      "Outfit Recommendation 3\n",
      "accessory2: Loewe Woven Fringe Open-Knit Wool Cardigan (01DVRYN4B93DG09MF4YS8P5PSJ)\n",
      "accessory1: BY FAR Jamie Mini Duchesse-Satin and Croc-Effect Leather Shoulder Bag (01DT2DA9XY52F7XQH552ZJW43K)\n",
      "shoe: Prada Mary Jane Mules (01DVS0C77R86TSCW59G1KNXP72)\n",
      "onepiece: REDValentino Ruffled crepe mini dress (01DVS0K29DABT1REMJ0JXFVT8Z)\n",
      "\n",
      "\n",
      "Outfit Recommendation 4\n",
      "accessory2: Loewe Woven Fringe Open-Knit Wool Cardigan (01DVRYN4B93DG09MF4YS8P5PSJ)\n",
      "accessory1: BY FAR Jamie Mini Duchesse-Satin and Croc-Effect Leather Shoulder Bag (01DT2DA9XY52F7XQH552ZJW43K)\n",
      "shoe: Jimmy Choo Romy 100 suede pumps (01DVA80YRD3A05GQDNZ93TVVVX)\n",
      "onepiece: REDValentino Ruffled crepe mini dress (01DVS0K29DABT1REMJ0JXFVT8Z)\n",
      "\n",
      "\n",
      "Outfit Recommendation 5\n",
      "accessory2: Loewe Woven Fringe Open-Knit Wool Cardigan (01DVRYN4B93DG09MF4YS8P5PSJ)\n",
      "accessory1: BY FAR Jamie Mini Duchesse-Satin and Croc-Effect Leather Shoulder Bag (01DT2DA9XY52F7XQH552ZJW43K)\n",
      "onepiece: Cami NYC The Constance lace-trimmed ruched silk-charmeuse mini dress (01DVPP6AP5V44EWB1BVH4DZ4TM)\n",
      "shoe: Prada Mary Jane Mules (01DVS0C77R86TSCW59G1KNXP72)\n",
      "\n",
      "\n",
      "Outfit Recommendation 6\n",
      "accessory2: Loewe Woven Fringe Open-Knit Wool Cardigan (01DVRYN4B93DG09MF4YS8P5PSJ)\n",
      "accessory1: BY FAR Jamie Mini Duchesse-Satin and Croc-Effect Leather Shoulder Bag (01DT2DA9XY52F7XQH552ZJW43K)\n",
      "shoe: Jimmy Choo Romy 100 suede pumps (01DVA80YRD3A05GQDNZ93TVVVX)\n",
      "onepiece: Cami NYC The Constance lace-trimmed ruched silk-charmeuse mini dress (01DVPP6AP5V44EWB1BVH4DZ4TM)\n",
      "\n",
      "\n"
     ]
    }
   ],
   "source": [
    "outfit_compiler_final(test_wrong)"
   ]
  },
  {
   "cell_type": "code",
   "execution_count": 7,
   "metadata": {},
   "outputs": [
    {
     "name": "stdout",
     "output_type": "stream",
     "text": [
      "Outfit Recommendation 1\n",
      "bottom: Eileen Fisher Slim Knit Skirt (01DMBRYVA2P5H24WK0HTK4R0A1)\n",
      "top: Eileen Fisher Rib Mock Neck Tank (01DMBRYVA2PEPWFTT7RMP5AA1T)\n",
      "accessory1: kate spade new york medium margaux leather satchel (01DMBRYVA2S5T9W793F4CY41HE)\n",
      "shoe: Tory Burch Penelope Mid Cap Toe Pump (01DMBRYVA2ZFDYRYY5TRQZJTBD)\n",
      "\n",
      "\n",
      "Outfit Recommendation 2\n",
      "bottom: Eileen Fisher Slim Knit Skirt (01DMBRYVA2P5H24WK0HTK4R0A1)\n",
      "top: Eileen Fisher Rib Mock Neck Tank (01DMBRYVA2PEPWFTT7RMP5AA1T)\n",
      "shoe: Tory Burch Penelope Mid Cap Toe Pump (01DMBRYVA2ZFDYRYY5TRQZJTBD)\n",
      "accessory1: Nina Crystal Clutch (01DMHCNT41E14QWP503V7CT9G6)\n",
      "\n",
      "\n"
     ]
    }
   ],
   "source": [
    "outfit_compiler_final(test1)"
   ]
  },
  {
   "cell_type": "code",
   "execution_count": 8,
   "metadata": {},
   "outputs": [
    {
     "name": "stdout",
     "output_type": "stream",
     "text": [
      "Outfit Recommendation 1\n",
      "shoe: Tory Burch Penelope Mid Cap Toe Pump (01DMBRYVA2ZFDYRYY5TRQZJTBD)\n",
      "bottom: Eileen Fisher Slim Knit Skirt (01DMBRYVA2P5H24WK0HTK4R0A1)\n",
      "top: Eileen Fisher Rib Mock Neck Tank (01DMBRYVA2PEPWFTT7RMP5AA1T)\n",
      "accessory1: kate spade new york medium margaux leather satchel (01DMBRYVA2S5T9W793F4CY41HE)\n",
      "\n",
      "\n",
      "Outfit Recommendation 2\n",
      "shoe: Tory Burch Penelope Mid Cap Toe Pump (01DMBRYVA2ZFDYRYY5TRQZJTBD)\n",
      "bottom: Eileen Fisher Slim Knit Skirt (01DMBRYVA2P5H24WK0HTK4R0A1)\n",
      "top: Eileen Fisher Rib Mock Neck Tank (01DMBRYVA2PEPWFTT7RMP5AA1T)\n",
      "accessory1: Nina Crystal Clutch (01DMHCNT41E14QWP503V7CT9G6)\n",
      "\n",
      "\n",
      "Outfit Recommendation 3\n",
      "shoe: Tory Burch Penelope Mid Cap Toe Pump (01DMBRYVA2ZFDYRYY5TRQZJTBD)\n",
      "onepiece: Equipment Chemelle Midi Dress (01DMBRYVA2Q2ST7MNYR6EEY4TK)\n",
      "accessory1: Nina Crystal Clutch (01DMHCNT41E14QWP503V7CT9G6)\n",
      "\n",
      "\n",
      "Outfit Recommendation 4\n",
      "shoe: Tory Burch Penelope Mid Cap Toe Pump (01DMBRYVA2ZFDYRYY5TRQZJTBD)\n",
      "onepiece: Equipment Chemelle Midi Dress (01DMBRYVA2Q2ST7MNYR6EEY4TK)\n",
      "accessory1: kate spade new york medium margaux leather satchel (01DMBRYVA2S5T9W793F4CY41HE)\n",
      "\n",
      "\n"
     ]
    }
   ],
   "source": [
    "outfit_compiler_final(test2)"
   ]
  },
  {
   "cell_type": "code",
   "execution_count": null,
   "metadata": {},
   "outputs": [],
   "source": []
  }
 ],
 "metadata": {
  "kernelspec": {
   "display_name": "Python 3",
   "language": "python",
   "name": "python3"
  },
  "language_info": {
   "codemirror_mode": {
    "name": "ipython",
    "version": 3
   },
   "file_extension": ".py",
   "mimetype": "text/x-python",
   "name": "python",
   "nbconvert_exporter": "python",
   "pygments_lexer": "ipython3",
   "version": "3.7.3"
  }
 },
 "nbformat": 4,
 "nbformat_minor": 2
}
