{
 "cells": [
  {
   "cell_type": "code",
   "execution_count": 1,
   "metadata": {},
   "outputs": [
    {
     "name": "stderr",
     "output_type": "stream",
     "text": [
      "//anaconda3/lib/python3.7/site-packages/fuzzywuzzy/fuzz.py:11: UserWarning: Using slow pure-python SequenceMatcher. Install python-Levenshtein to remove this warning\n",
      "  warnings.warn('Using slow pure-python SequenceMatcher. Install python-Levenshtein to remove this warning')\n"
     ]
    }
   ],
   "source": [
    "import pandas as pd\n",
    "import numpy as np\n",
    "import re\n",
    "from sklearn.metrics.pairwise import cosine_similarity\n",
    "from sklearn.feature_extraction.text import TfidfVectorizer\n",
    "from fuzzywuzzy import fuzz"
   ]
  },
  {
   "cell_type": "code",
   "execution_count": 2,
   "metadata": {},
   "outputs": [],
   "source": [
    "outfits = pd.read_csv('outfit_combinations.csv')"
   ]
  },
  {
   "cell_type": "code",
   "execution_count": 3,
   "metadata": {
    "scrolled": true
   },
   "outputs": [
    {
     "data": {
      "text/html": [
       "<div>\n",
       "<style scoped>\n",
       "    .dataframe tbody tr th:only-of-type {\n",
       "        vertical-align: middle;\n",
       "    }\n",
       "\n",
       "    .dataframe tbody tr th {\n",
       "        vertical-align: top;\n",
       "    }\n",
       "\n",
       "    .dataframe thead th {\n",
       "        text-align: right;\n",
       "    }\n",
       "</style>\n",
       "<table border=\"1\" class=\"dataframe\">\n",
       "  <thead>\n",
       "    <tr style=\"text-align: right;\">\n",
       "      <th></th>\n",
       "      <th>outfit_id</th>\n",
       "      <th>product_id</th>\n",
       "      <th>outfit_item_type</th>\n",
       "      <th>brand</th>\n",
       "      <th>product_full_name</th>\n",
       "    </tr>\n",
       "  </thead>\n",
       "  <tbody>\n",
       "    <tr>\n",
       "      <th>0</th>\n",
       "      <td>01DDBHC62ES5K80P0KYJ56AM2T</td>\n",
       "      <td>01DMBRYVA2P5H24WK0HTK4R0A1</td>\n",
       "      <td>bottom</td>\n",
       "      <td>Eileen Fisher</td>\n",
       "      <td>Slim Knit Skirt</td>\n",
       "    </tr>\n",
       "    <tr>\n",
       "      <th>1</th>\n",
       "      <td>01DDBHC62ES5K80P0KYJ56AM2T</td>\n",
       "      <td>01DMBRYVA2PEPWFTT7RMP5AA1T</td>\n",
       "      <td>top</td>\n",
       "      <td>Eileen Fisher</td>\n",
       "      <td>Rib Mock Neck Tank</td>\n",
       "    </tr>\n",
       "    <tr>\n",
       "      <th>2</th>\n",
       "      <td>01DDBHC62ES5K80P0KYJ56AM2T</td>\n",
       "      <td>01DMBRYVA2S5T9W793F4CY41HE</td>\n",
       "      <td>accessory1</td>\n",
       "      <td>kate spade new york</td>\n",
       "      <td>medium margaux leather satchel</td>\n",
       "    </tr>\n",
       "    <tr>\n",
       "      <th>3</th>\n",
       "      <td>01DDBHC62ES5K80P0KYJ56AM2T</td>\n",
       "      <td>01DMBRYVA2ZFDYRYY5TRQZJTBD</td>\n",
       "      <td>shoe</td>\n",
       "      <td>Tory Burch</td>\n",
       "      <td>Penelope Mid Cap Toe Pump</td>\n",
       "    </tr>\n",
       "    <tr>\n",
       "      <th>4</th>\n",
       "      <td>01DMHCX50CFX5YNG99F3Y65GQW</td>\n",
       "      <td>01DMBRYVA2P5H24WK0HTK4R0A1</td>\n",
       "      <td>bottom</td>\n",
       "      <td>Eileen Fisher</td>\n",
       "      <td>Slim Knit Skirt</td>\n",
       "    </tr>\n",
       "  </tbody>\n",
       "</table>\n",
       "</div>"
      ],
      "text/plain": [
       "                    outfit_id                  product_id outfit_item_type  \\\n",
       "0  01DDBHC62ES5K80P0KYJ56AM2T  01DMBRYVA2P5H24WK0HTK4R0A1           bottom   \n",
       "1  01DDBHC62ES5K80P0KYJ56AM2T  01DMBRYVA2PEPWFTT7RMP5AA1T              top   \n",
       "2  01DDBHC62ES5K80P0KYJ56AM2T  01DMBRYVA2S5T9W793F4CY41HE       accessory1   \n",
       "3  01DDBHC62ES5K80P0KYJ56AM2T  01DMBRYVA2ZFDYRYY5TRQZJTBD             shoe   \n",
       "4  01DMHCX50CFX5YNG99F3Y65GQW  01DMBRYVA2P5H24WK0HTK4R0A1           bottom   \n",
       "\n",
       "                 brand               product_full_name  \n",
       "0        Eileen Fisher                 Slim Knit Skirt  \n",
       "1        Eileen Fisher              Rib Mock Neck Tank  \n",
       "2  kate spade new york  medium margaux leather satchel  \n",
       "3           Tory Burch       Penelope Mid Cap Toe Pump  \n",
       "4        Eileen Fisher                 Slim Knit Skirt  "
      ]
     },
     "execution_count": 3,
     "metadata": {},
     "output_type": "execute_result"
    }
   ],
   "source": [
    "outfits.head()"
   ]
  },
  {
   "cell_type": "code",
   "execution_count": 4,
   "metadata": {},
   "outputs": [
    {
     "name": "stdout",
     "output_type": "stream",
     "text": [
      "There are 5291 no of rows\n"
     ]
    }
   ],
   "source": [
    "print(f'There are {len(outfits)} no of rows')"
   ]
  },
  {
   "cell_type": "code",
   "execution_count": 5,
   "metadata": {},
   "outputs": [
    {
     "name": "stdout",
     "output_type": "stream",
     "text": [
      "There are 1137 unique Outfits\n"
     ]
    }
   ],
   "source": [
    "print(f'There are {len(outfits.outfit_id.unique())} unique Outfits')"
   ]
  },
  {
   "cell_type": "code",
   "execution_count": 6,
   "metadata": {},
   "outputs": [
    {
     "name": "stdout",
     "output_type": "stream",
     "text": [
      "There are 804 unique products\n"
     ]
    }
   ],
   "source": [
    "print(f'There are {len(outfits.product_id.unique())} unique products')"
   ]
  },
  {
   "cell_type": "markdown",
   "metadata": {},
   "source": [
    "1. input is product id\n",
    "2. grab list of outfit ids\n",
    "3. iterate through each outfit id\n",
    "    a. return outfit_item_type + brand + product_full_name\\n for each outfit"
   ]
  },
  {
   "cell_type": "markdown",
   "metadata": {},
   "source": [
    "# test process for building function"
   ]
  },
  {
   "cell_type": "code",
   "execution_count": 7,
   "metadata": {},
   "outputs": [],
   "source": [
    "test_wrong = 'something random that maybe I would want (23049nnvlsjerou293094kljd)'"
   ]
  },
  {
   "cell_type": "code",
   "execution_count": 8,
   "metadata": {},
   "outputs": [],
   "source": [
    "test1 = 'bottom: Eileen Fisher Slim Knit Skirt (01DMBRYVA2P5H24WK0HTK4R0A1)'"
   ]
  },
  {
   "cell_type": "code",
   "execution_count": 9,
   "metadata": {},
   "outputs": [],
   "source": [
    "test2 = 'shoe: Tory Burch Penelope Mid Cap Toe Pump (01DMBRYVA2ZFDYRYY5TRQZJTBD)'"
   ]
  },
  {
   "cell_type": "code",
   "execution_count": 10,
   "metadata": {},
   "outputs": [
    {
     "data": {
      "text/html": [
       "<div>\n",
       "<style scoped>\n",
       "    .dataframe tbody tr th:only-of-type {\n",
       "        vertical-align: middle;\n",
       "    }\n",
       "\n",
       "    .dataframe tbody tr th {\n",
       "        vertical-align: top;\n",
       "    }\n",
       "\n",
       "    .dataframe thead th {\n",
       "        text-align: right;\n",
       "    }\n",
       "</style>\n",
       "<table border=\"1\" class=\"dataframe\">\n",
       "  <thead>\n",
       "    <tr style=\"text-align: right;\">\n",
       "      <th></th>\n",
       "      <th>outfit_id</th>\n",
       "      <th>product_id</th>\n",
       "      <th>outfit_item_type</th>\n",
       "      <th>brand</th>\n",
       "      <th>product_full_name</th>\n",
       "    </tr>\n",
       "  </thead>\n",
       "  <tbody>\n",
       "    <tr>\n",
       "      <th>0</th>\n",
       "      <td>01DDBHC62ES5K80P0KYJ56AM2T</td>\n",
       "      <td>01DMBRYVA2P5H24WK0HTK4R0A1</td>\n",
       "      <td>bottom</td>\n",
       "      <td>Eileen Fisher</td>\n",
       "      <td>Slim Knit Skirt</td>\n",
       "    </tr>\n",
       "    <tr>\n",
       "      <th>4</th>\n",
       "      <td>01DMHCX50CFX5YNG99F3Y65GQW</td>\n",
       "      <td>01DMBRYVA2P5H24WK0HTK4R0A1</td>\n",
       "      <td>bottom</td>\n",
       "      <td>Eileen Fisher</td>\n",
       "      <td>Slim Knit Skirt</td>\n",
       "    </tr>\n",
       "  </tbody>\n",
       "</table>\n",
       "</div>"
      ],
      "text/plain": [
       "                    outfit_id                  product_id outfit_item_type  \\\n",
       "0  01DDBHC62ES5K80P0KYJ56AM2T  01DMBRYVA2P5H24WK0HTK4R0A1           bottom   \n",
       "4  01DMHCX50CFX5YNG99F3Y65GQW  01DMBRYVA2P5H24WK0HTK4R0A1           bottom   \n",
       "\n",
       "           brand product_full_name  \n",
       "0  Eileen Fisher   Slim Knit Skirt  \n",
       "4  Eileen Fisher   Slim Knit Skirt  "
      ]
     },
     "execution_count": 10,
     "metadata": {},
     "output_type": "execute_result"
    }
   ],
   "source": [
    "# we see here that this product id is part of two different outfits\n",
    "outfits[outfits['product_id'] == '01DMBRYVA2P5H24WK0HTK4R0A1']"
   ]
  },
  {
   "cell_type": "code",
   "execution_count": 11,
   "metadata": {
    "scrolled": true
   },
   "outputs": [
    {
     "data": {
      "text/html": [
       "<div>\n",
       "<style scoped>\n",
       "    .dataframe tbody tr th:only-of-type {\n",
       "        vertical-align: middle;\n",
       "    }\n",
       "\n",
       "    .dataframe tbody tr th {\n",
       "        vertical-align: top;\n",
       "    }\n",
       "\n",
       "    .dataframe thead th {\n",
       "        text-align: right;\n",
       "    }\n",
       "</style>\n",
       "<table border=\"1\" class=\"dataframe\">\n",
       "  <thead>\n",
       "    <tr style=\"text-align: right;\">\n",
       "      <th></th>\n",
       "      <th>outfit_id</th>\n",
       "      <th>product_id</th>\n",
       "      <th>outfit_item_type</th>\n",
       "      <th>brand</th>\n",
       "      <th>product_full_name</th>\n",
       "    </tr>\n",
       "  </thead>\n",
       "  <tbody>\n",
       "    <tr>\n",
       "      <th>0</th>\n",
       "      <td>01DDBHC62ES5K80P0KYJ56AM2T</td>\n",
       "      <td>01DMBRYVA2P5H24WK0HTK4R0A1</td>\n",
       "      <td>bottom</td>\n",
       "      <td>Eileen Fisher</td>\n",
       "      <td>Slim Knit Skirt</td>\n",
       "    </tr>\n",
       "    <tr>\n",
       "      <th>1</th>\n",
       "      <td>01DDBHC62ES5K80P0KYJ56AM2T</td>\n",
       "      <td>01DMBRYVA2PEPWFTT7RMP5AA1T</td>\n",
       "      <td>top</td>\n",
       "      <td>Eileen Fisher</td>\n",
       "      <td>Rib Mock Neck Tank</td>\n",
       "    </tr>\n",
       "    <tr>\n",
       "      <th>2</th>\n",
       "      <td>01DDBHC62ES5K80P0KYJ56AM2T</td>\n",
       "      <td>01DMBRYVA2S5T9W793F4CY41HE</td>\n",
       "      <td>accessory1</td>\n",
       "      <td>kate spade new york</td>\n",
       "      <td>medium margaux leather satchel</td>\n",
       "    </tr>\n",
       "    <tr>\n",
       "      <th>3</th>\n",
       "      <td>01DDBHC62ES5K80P0KYJ56AM2T</td>\n",
       "      <td>01DMBRYVA2ZFDYRYY5TRQZJTBD</td>\n",
       "      <td>shoe</td>\n",
       "      <td>Tory Burch</td>\n",
       "      <td>Penelope Mid Cap Toe Pump</td>\n",
       "    </tr>\n",
       "  </tbody>\n",
       "</table>\n",
       "</div>"
      ],
      "text/plain": [
       "                    outfit_id                  product_id outfit_item_type  \\\n",
       "0  01DDBHC62ES5K80P0KYJ56AM2T  01DMBRYVA2P5H24WK0HTK4R0A1           bottom   \n",
       "1  01DDBHC62ES5K80P0KYJ56AM2T  01DMBRYVA2PEPWFTT7RMP5AA1T              top   \n",
       "2  01DDBHC62ES5K80P0KYJ56AM2T  01DMBRYVA2S5T9W793F4CY41HE       accessory1   \n",
       "3  01DDBHC62ES5K80P0KYJ56AM2T  01DMBRYVA2ZFDYRYY5TRQZJTBD             shoe   \n",
       "\n",
       "                 brand               product_full_name  \n",
       "0        Eileen Fisher                 Slim Knit Skirt  \n",
       "1        Eileen Fisher              Rib Mock Neck Tank  \n",
       "2  kate spade new york  medium margaux leather satchel  \n",
       "3           Tory Burch       Penelope Mid Cap Toe Pump  "
      ]
     },
     "execution_count": 11,
     "metadata": {},
     "output_type": "execute_result"
    }
   ],
   "source": [
    "# the first outfit has four products in it\n",
    "outfits[outfits['outfit_id'] == '01DDBHC62ES5K80P0KYJ56AM2T']"
   ]
  },
  {
   "cell_type": "code",
   "execution_count": 12,
   "metadata": {},
   "outputs": [],
   "source": [
    "# Isolate first outfit id from df pulled by product id\n",
    "outfit = outfits['outfit_id'][outfits['product_id'] == '01DMBRYVA2P5H24WK0HTK4R0A1'][0]"
   ]
  },
  {
   "cell_type": "code",
   "execution_count": 13,
   "metadata": {},
   "outputs": [
    {
     "data": {
      "text/plain": [
       "'01DDBHC62ES5K80P0KYJ56AM2T'"
      ]
     },
     "execution_count": 13,
     "metadata": {},
     "output_type": "execute_result"
    }
   ],
   "source": [
    "outfit"
   ]
  },
  {
   "cell_type": "code",
   "execution_count": 14,
   "metadata": {},
   "outputs": [
    {
     "data": {
      "text/plain": [
       "'bottom'"
      ]
     },
     "execution_count": 14,
     "metadata": {},
     "output_type": "execute_result"
    }
   ],
   "source": [
    "outfits[outfits['outfit_id'] == outfit].iloc[0,2]"
   ]
  },
  {
   "cell_type": "code",
   "execution_count": 15,
   "metadata": {},
   "outputs": [
    {
     "data": {
      "text/plain": [
       "0    01DDBHC62ES5K80P0KYJ56AM2T\n",
       "4    01DMHCX50CFX5YNG99F3Y65GQW\n",
       "Name: outfit_id, dtype: object"
      ]
     },
     "execution_count": 15,
     "metadata": {},
     "output_type": "execute_result"
    }
   ],
   "source": [
    "outfits['outfit_id'][outfits['product_id'] == '01DMBRYVA2P5H24WK0HTK4R0A1']"
   ]
  },
  {
   "cell_type": "code",
   "execution_count": 16,
   "metadata": {},
   "outputs": [],
   "source": [
    "test = ''"
   ]
  },
  {
   "cell_type": "code",
   "execution_count": 17,
   "metadata": {},
   "outputs": [],
   "source": [
    "testappend = 'hello'"
   ]
  },
  {
   "cell_type": "code",
   "execution_count": 18,
   "metadata": {},
   "outputs": [],
   "source": [
    "test += testappend"
   ]
  },
  {
   "cell_type": "code",
   "execution_count": 19,
   "metadata": {},
   "outputs": [
    {
     "data": {
      "text/plain": [
       "'hello'"
      ]
     },
     "execution_count": 19,
     "metadata": {},
     "output_type": "execute_result"
    }
   ],
   "source": [
    "test"
   ]
  },
  {
   "cell_type": "code",
   "execution_count": 20,
   "metadata": {},
   "outputs": [
    {
     "data": {
      "text/plain": [
       "'01DMBRYVA2P5H24WK0HTK4R0A1'"
      ]
     },
     "execution_count": 20,
     "metadata": {},
     "output_type": "execute_result"
    }
   ],
   "source": [
    "re.search(r'\\(([^)]+)', test1).group(1)\n",
    "#https://stackoverflow.com/questions/38999344/extract-string-within-parentheses-python\n",
    "# user Maroun"
   ]
  },
  {
   "cell_type": "code",
   "execution_count": 21,
   "metadata": {},
   "outputs": [],
   "source": [
    "# Outfit compiler if product ID is in outfit df\n",
    "# starting point - add cosine similarity/fuzzy matching to this\n",
    "def outfit_compiler_v2(text):\n",
    "    # pull product_id from input\n",
    "    product_id = re.search(r'\\(([^)]+)', text).group(1)\n",
    "    # get list of outfits associated with product_id\n",
    "    outfit_list = outfits['outfit_id'][outfits['product_id'] == product_id]\n",
    "    outfit_num = 1 #to print the outfit number\n",
    "    # iterate through each outfit\n",
    "    for outfit in outfit_list:\n",
    "        outfit_size = outfits[outfits['outfit_id'] == outfit].shape[0] #get how many products in the outfit\n",
    "        print('Outfit Recommendation', outfit_num)\n",
    "        outfit_num +=1\n",
    "        # print each piece in the outfit\n",
    "        print(text) # print the input as the first product in the outfit\n",
    "        for i in range(outfit_size):\n",
    "            # print the rest of the products in the outfit\n",
    "            if (outfits[outfits['outfit_id'] == outfit].iloc[i,1] != product_id):\n",
    "                piece = outfits[outfits['outfit_id'] == outfit].iloc[i,2] + ': ' + outfits[outfits['outfit_id'] == outfit].iloc[i,3] + ' ' + outfits[outfits['outfit_id'] == outfit].iloc[i,4] + ' (' + outfits[outfits['outfit_id'] == outfit].iloc[i,1] + ')'\n",
    "                print(piece)\n",
    "        print('\\n')"
   ]
  },
  {
   "cell_type": "markdown",
   "metadata": {},
   "source": [
    "# Fuzzywuzzy"
   ]
  },
  {
   "cell_type": "code",
   "execution_count": 22,
   "metadata": {},
   "outputs": [],
   "source": [
    "query = 'something129490random'"
   ]
  },
  {
   "cell_type": "code",
   "execution_count": 23,
   "metadata": {
    "scrolled": false
   },
   "outputs": [],
   "source": [
    "outfits['fuzzy'] = outfits['product_id'].apply(lambda x:fuzz.partial_ratio(x, query))"
   ]
  },
  {
   "cell_type": "code",
   "execution_count": 24,
   "metadata": {
    "scrolled": true
   },
   "outputs": [
    {
     "data": {
      "text/html": [
       "<div>\n",
       "<style scoped>\n",
       "    .dataframe tbody tr th:only-of-type {\n",
       "        vertical-align: middle;\n",
       "    }\n",
       "\n",
       "    .dataframe tbody tr th {\n",
       "        vertical-align: top;\n",
       "    }\n",
       "\n",
       "    .dataframe thead th {\n",
       "        text-align: right;\n",
       "    }\n",
       "</style>\n",
       "<table border=\"1\" class=\"dataframe\">\n",
       "  <thead>\n",
       "    <tr style=\"text-align: right;\">\n",
       "      <th></th>\n",
       "      <th>outfit_id</th>\n",
       "      <th>product_id</th>\n",
       "      <th>outfit_item_type</th>\n",
       "      <th>brand</th>\n",
       "      <th>product_full_name</th>\n",
       "      <th>fuzzy</th>\n",
       "    </tr>\n",
       "  </thead>\n",
       "  <tbody>\n",
       "    <tr>\n",
       "      <th>729</th>\n",
       "      <td>01DVBQN0A1NQVQY805R202YW8H</td>\n",
       "      <td>01DT0DKEZ2DQZ9SXHE34790QGC</td>\n",
       "      <td>top</td>\n",
       "      <td>ATM Anthony Thomas Melillo</td>\n",
       "      <td>Woven Boyfriend V-Neck Tee</td>\n",
       "      <td>26</td>\n",
       "    </tr>\n",
       "    <tr>\n",
       "      <th>739</th>\n",
       "      <td>01DVBQN0A2140HYFMQ04YHKCPD</td>\n",
       "      <td>01DT0DKEZ2DQZ9SXHE34790QGC</td>\n",
       "      <td>top</td>\n",
       "      <td>ATM Anthony Thomas Melillo</td>\n",
       "      <td>Woven Boyfriend V-Neck Tee</td>\n",
       "      <td>26</td>\n",
       "    </tr>\n",
       "    <tr>\n",
       "      <th>743</th>\n",
       "      <td>01DVBQN0A21NSDFGJC5VZVS7S2</td>\n",
       "      <td>01DT0DKEZ2DQZ9SXHE34790QGC</td>\n",
       "      <td>top</td>\n",
       "      <td>ATM Anthony Thomas Melillo</td>\n",
       "      <td>Woven Boyfriend V-Neck Tee</td>\n",
       "      <td>26</td>\n",
       "    </tr>\n",
       "    <tr>\n",
       "      <th>769</th>\n",
       "      <td>01DVBQN0A2EK6QV31FEJHNTYZ2</td>\n",
       "      <td>01DT0DKEZ2DQZ9SXHE34790QGC</td>\n",
       "      <td>top</td>\n",
       "      <td>ATM Anthony Thomas Melillo</td>\n",
       "      <td>Woven Boyfriend V-Neck Tee</td>\n",
       "      <td>26</td>\n",
       "    </tr>\n",
       "    <tr>\n",
       "      <th>773</th>\n",
       "      <td>01DVBQN0A2G9FJWYSJKV22K2EH</td>\n",
       "      <td>01DT0DKEZ2DQZ9SXHE34790QGC</td>\n",
       "      <td>top</td>\n",
       "      <td>ATM Anthony Thomas Melillo</td>\n",
       "      <td>Woven Boyfriend V-Neck Tee</td>\n",
       "      <td>26</td>\n",
       "    </tr>\n",
       "    <tr>\n",
       "      <th>783</th>\n",
       "      <td>01DVBQN0A2SCBC7953HFK47P18</td>\n",
       "      <td>01DT0DKEZ2DQZ9SXHE34790QGC</td>\n",
       "      <td>top</td>\n",
       "      <td>ATM Anthony Thomas Melillo</td>\n",
       "      <td>Woven Boyfriend V-Neck Tee</td>\n",
       "      <td>26</td>\n",
       "    </tr>\n",
       "  </tbody>\n",
       "</table>\n",
       "</div>"
      ],
      "text/plain": [
       "                      outfit_id                  product_id outfit_item_type  \\\n",
       "729  01DVBQN0A1NQVQY805R202YW8H  01DT0DKEZ2DQZ9SXHE34790QGC              top   \n",
       "739  01DVBQN0A2140HYFMQ04YHKCPD  01DT0DKEZ2DQZ9SXHE34790QGC              top   \n",
       "743  01DVBQN0A21NSDFGJC5VZVS7S2  01DT0DKEZ2DQZ9SXHE34790QGC              top   \n",
       "769  01DVBQN0A2EK6QV31FEJHNTYZ2  01DT0DKEZ2DQZ9SXHE34790QGC              top   \n",
       "773  01DVBQN0A2G9FJWYSJKV22K2EH  01DT0DKEZ2DQZ9SXHE34790QGC              top   \n",
       "783  01DVBQN0A2SCBC7953HFK47P18  01DT0DKEZ2DQZ9SXHE34790QGC              top   \n",
       "\n",
       "                          brand           product_full_name  fuzzy  \n",
       "729  ATM Anthony Thomas Melillo  Woven Boyfriend V-Neck Tee     26  \n",
       "739  ATM Anthony Thomas Melillo  Woven Boyfriend V-Neck Tee     26  \n",
       "743  ATM Anthony Thomas Melillo  Woven Boyfriend V-Neck Tee     26  \n",
       "769  ATM Anthony Thomas Melillo  Woven Boyfriend V-Neck Tee     26  \n",
       "773  ATM Anthony Thomas Melillo  Woven Boyfriend V-Neck Tee     26  \n",
       "783  ATM Anthony Thomas Melillo  Woven Boyfriend V-Neck Tee     26  "
      ]
     },
     "execution_count": 24,
     "metadata": {},
     "output_type": "execute_result"
    }
   ],
   "source": [
    "outfits[outfits['fuzzy'] == outfits['fuzzy'].max()]"
   ]
  },
  {
   "cell_type": "code",
   "execution_count": 25,
   "metadata": {},
   "outputs": [
    {
     "data": {
      "text/plain": [
       "'01DT0DKEZ2DQZ9SXHE34790QGC'"
      ]
     },
     "execution_count": 25,
     "metadata": {},
     "output_type": "execute_result"
    }
   ],
   "source": [
    "outfits[outfits['fuzzy'] == outfits['fuzzy'].max()].iloc[0,1]"
   ]
  },
  {
   "cell_type": "code",
   "execution_count": 26,
   "metadata": {},
   "outputs": [],
   "source": [
    "# Outfit compiler for fuzzywuzzy\n",
    "def outfit_compiler_fuzzy(text):\n",
    "    # pull product_id from input\n",
    "    product_id = re.search(r'\\(([^)]+)', text).group(1)\n",
    "    # get fuzzywuzzy score between input and all product ids\n",
    "    outfits['fuzzy'] = outfits['product_id'].apply(lambda x:fuzz.partial_ratio(x, text))\n",
    "    # find product_id with max fuzzywuzzy score\n",
    "    found_product = outfits[outfits['fuzzy'] == outfits['fuzzy'].max()].iloc[0,1]\n",
    "    # found_product_desc takes found_product and puts it  in the same format as the input\n",
    "    found_product_desc = outfits[outfits['product_id'] == found_product].iloc[0,2] + ': ' + outfits[outfits['product_id'] == found_product].iloc[0,3] + ' ' + outfits[outfits['product_id'] == found_product].iloc[0,4] + ' (' + outfits[outfits['product_id'] == found_product].iloc[0,1] + ')'\n",
    "    if product_id != found_product: # if the input isn't in the outfits df\n",
    "        print('Product ID not found--did you mean', found_product_desc, '?\\n')\n",
    "    outfit_list = outfits['outfit_id'][outfits['product_id'] == found_product] # get list of all outfits where product id shows up\n",
    "    outfit_num = 1 #to print the outfit number\n",
    "    # iterate through each outfit\n",
    "    for outfit in outfit_list:\n",
    "        outfit_size = outfits[outfits['outfit_id'] == outfit].shape[0] #get how many products in the outfit\n",
    "        print('Outfit Recommendation', outfit_num)\n",
    "        outfit_num +=1\n",
    "        # print each piece in the outfit\n",
    "        print(found_product_desc) #print the input as the first product in the outfit\n",
    "        for i in range(outfit_size): #print the rest of the products in the outfit\n",
    "            if (outfits[outfits['outfit_id'] == outfit].iloc[i,1] != found_product):\n",
    "                piece = outfits[outfits['outfit_id'] == outfit].iloc[i,2] + ': ' + outfits[outfits['outfit_id'] == outfit].iloc[i,3] + ' ' + outfits[outfits['outfit_id'] == outfit].iloc[i,4] + ' (' + outfits[outfits['outfit_id'] == outfit].iloc[i,1] + ')'\n",
    "                print(piece)\n",
    "        print('\\n')"
   ]
  },
  {
   "cell_type": "markdown",
   "metadata": {},
   "source": [
    "# starting to explore tfidf/similarity"
   ]
  },
  {
   "cell_type": "code",
   "execution_count": 27,
   "metadata": {},
   "outputs": [],
   "source": [
    "tokens = outfits['product_id']"
   ]
  },
  {
   "cell_type": "code",
   "execution_count": 28,
   "metadata": {},
   "outputs": [],
   "source": [
    "vectorizer = TfidfVectorizer()"
   ]
  },
  {
   "cell_type": "code",
   "execution_count": 29,
   "metadata": {},
   "outputs": [],
   "source": [
    "X = vectorizer.fit_transform(tokens)\n",
    "terms = vectorizer.get_feature_names()"
   ]
  },
  {
   "cell_type": "code",
   "execution_count": 30,
   "metadata": {},
   "outputs": [],
   "source": [
    "# I've been changing this to try to figure out different things\n",
    "query = '01DMBRYVA2PEPWFTT7RMP5ATTT'"
   ]
  },
  {
   "cell_type": "code",
   "execution_count": 31,
   "metadata": {},
   "outputs": [],
   "source": [
    "Q = vectorizer.transform([query])\n",
    "terms = vectorizer.get_feature_names()"
   ]
  },
  {
   "cell_type": "code",
   "execution_count": 32,
   "metadata": {},
   "outputs": [],
   "source": [
    "results=cosine_similarity(X,Q).reshape((-1,1))"
   ]
  },
  {
   "cell_type": "code",
   "execution_count": 33,
   "metadata": {},
   "outputs": [
    {
     "data": {
      "text/plain": [
       "'01DDBHC62ES5K80P0KYJ56AM2T'"
      ]
     },
     "execution_count": 33,
     "metadata": {},
     "output_type": "execute_result"
    }
   ],
   "source": [
    "# np.argmax always returns 1 when results has a 1 in it \n",
    "outfits.iloc[np.argmax(results),0]"
   ]
  },
  {
   "cell_type": "code",
   "execution_count": 34,
   "metadata": {},
   "outputs": [
    {
     "data": {
      "text/plain": [
       "['01dmbryva2p5h24wk0htk4r0a1',\n",
       " '01dmbryva2pepwftt7rmp5aa1t',\n",
       " '01dmbryva2q2st7mnyr6eey4tk',\n",
       " '01dmbryva2s5t9w793f4cy41he',\n",
       " '01dmbryva2zfdyryy5trqzjtbd',\n",
       " '01dmhcnt41e14qwp503v7ct9g6',\n",
       " '01dpc6z5k3zb8kz0m6yw7z4jx8',\n",
       " '01dpc8ampe4czhmjetf1q8ven0',\n",
       " '01dpc9xnr3xbh3haaqygykrj5h',\n",
       " '01dpcb2keavxxkfvm7fxbne4vy',\n",
       " '01dpcdef6syx2e1nt5x7hjbfgy',\n",
       " '01dpchnew5f2rhjq3njmvpk6se',\n",
       " '01dpchnqm0pa0sxzzzx85pf2zj',\n",
       " '01dpcrzwx4s2z8q5hydfm4hneg',\n",
       " '01dpcwejrbvwze397fmf9qxbby',\n",
       " '01dpcwryqmhrag7nj3q5jjmt42',\n",
       " '01dpcye6akjfkjsncbdtqfg52y',\n",
       " '01dpcz5dte59vbyd9nwnszkc40',\n",
       " '01dpd1r0f6z4ejcpndkpag5dpf',\n",
       " '01dpd2fga0fwfxjckmt5qbjyhk',\n",
       " '01dpd2fyrjg5wkxx8hekrn9j9b',\n",
       " '01dpd2gdftfsppdsnpfq0w3pq7',\n",
       " '01dpd2jcxh4nyqtrpja6t6vga9',\n",
       " '01dpd350msfxmw7s524jken2ty',\n",
       " '01dpd3agtnrnaknp8th9wyg35x',\n",
       " '01dpd3j095srerspggyx9ffrkx',\n",
       " '01dpd4r5x5tqcwtvtc2aeafc10',\n",
       " '01dpd7kn5438z6vnzkfttgy34g',\n",
       " '01dpd8c9xn7mqshsstktczzn1n',\n",
       " '01dpd9mvzapgvx5p3ay7y53x9v',\n",
       " '01dpdvgjabjvq3s3da3tjrd1r7',\n",
       " '01dpeb8hx0gk7a07qadnb52404',\n",
       " '01dpeezgrjyx4n4we78gpm0b2g',\n",
       " '01dpehs0xh9pdd1gh5ze4p43a2',\n",
       " '01dpekhk88kwy43k7ykc3tpzaj',\n",
       " '01dpen84f0edt38zx9h8r6ztyn',\n",
       " '01dpeqs48z0cdfw58a4nk19cb4',\n",
       " '01dper1bxhznae3baf7j88zwnk',\n",
       " '01dper9h4nmhgzxjtcwkn79n53',\n",
       " '01dperkes7r7zjcj9hywkts528',\n",
       " '01dpes95bx86gkms1zsjp1cs83',\n",
       " '01dpes9ez3awyqh0hyxhgw1t1n',\n",
       " '01dpesc70q027mgkh56d1jnjhx',\n",
       " '01dpeswq02nwkbdka07t5atpxv',\n",
       " '01dpet2nwsa221stzf740bz9sw',\n",
       " '01dpetfftsdhq66h03t0f58nx7',\n",
       " '01dpetns8db4mar29er6esa7xa',\n",
       " '01dpetph8kwsv94yxr9gawaf16',\n",
       " '01dpetrnk95d68pfasvntwzdhc',\n",
       " '01dpgs2915zzy5bgmzpvb0z3an',\n",
       " '01dpgsfjk363cxpqda2nz7kkh1',\n",
       " '01dpgstg4m1rxb26qmmn0mppb8',\n",
       " '01dpgt0e7wvpxs08e94kbyj7mb',\n",
       " '01dpgt6f3dft5e371x1mb9ymc4',\n",
       " '01dpgthpsyzcnw17pfdx20c2b6',\n",
       " '01dpgtxh6qtm161m660n9w7c3s',\n",
       " '01dpgv0tffj720bt3f8adn4v7p',\n",
       " '01dpgv4f7fmbyte3q32m81jpxc',\n",
       " '01dpgv4rap5z0byh1x7k2yk0df',\n",
       " '01dpgv4yrp3z8j85dasgz1y99w',\n",
       " '01dpgv52e2xtg7ppg8n0pv5k05',\n",
       " '01dpgv73e6kq1c31g7f1tgawgb',\n",
       " '01dpgv74ar5gxbvyezb86ts9pe',\n",
       " '01dpgv907rve6wxd00bn285vqv',\n",
       " '01dpgv9pfvqbxzq8bkt0evk2db',\n",
       " '01dpgv9svvh5jtr8ap19fn8hk3',\n",
       " '01dpgvd9xjqcgk325jq8rd6myv',\n",
       " '01dpgvdsam963g5atq66qn2vmk',\n",
       " '01dpgvef7hj2wp5j1hhs8thn5y',\n",
       " '01dpgvh2gjsjsve1rp5tf1j3xs',\n",
       " '01dpgvhg06b7rfn6wwhq52jrea',\n",
       " '01dpgvkmvetj64ksgv536h32z4',\n",
       " '01dpgvqyvfsbep5rk51cztk5yb',\n",
       " '01dpgww5ea4kq73h255bdhwznd',\n",
       " '01dpgwyts97kk213k1qnjv6610',\n",
       " '01dpgxgyvj5dyv5g9ctapgpfes',\n",
       " '01dpgxjxdy2wvt7ab3q9yr8zjt',\n",
       " '01dpgxrazbhqymcx47n55tp8pf',\n",
       " '01dpgy5wt01j8d9m39wey7z7w5',\n",
       " '01dpgya54b3zr5318h5321pzws',\n",
       " '01dpgyvq7ax94fv54mdnnvhnfh',\n",
       " '01dpgz1gb3amrnmds4nw9vtsj4',\n",
       " '01dpgzws42tp4nj1ggf50z9dzf',\n",
       " '01dph0wt4bkrt5cz3qv1z1ya21',\n",
       " '01dph126vrwe7enm47qztpc43v',\n",
       " '01dph12t38c24qm1r846gt6yt2',\n",
       " '01dph19482xdp8rnn9ncwv0jr3',\n",
       " '01dph1a23qxsrmgar9h3frnd2f',\n",
       " '01dph1den9g2wm7wamjmd0a9w4',\n",
       " '01dph1e5k89bey6k3b7zy73a8x',\n",
       " '01dph1qze2emxhm69va38mbga8',\n",
       " '01dpkmgj33sdfxm7xhgpqjwq12',\n",
       " '01dpkmh0d252jkmaa27mfct5gm',\n",
       " '01dpkmjfk6estb74dtb2hsb1s1',\n",
       " '01dpkmkg14kt68yqy0mwa1caa8',\n",
       " '01dpkmnzqteqx2y6kxmgxfx9tq',\n",
       " '01dpkmxbjemqwqwazhgjk1rs8z',\n",
       " '01dpkn1p7t4azh2qwe3evqdhyv',\n",
       " '01dpkn20q3j0be3cs896dqb6er',\n",
       " '01dpkn22n1x0rrjqyayvtrpd75',\n",
       " '01dpkn24a47na82sp2m7vyrsd3',\n",
       " '01dpkn2ekcvn928x5hphcmzkpj',\n",
       " '01dpkn2j5p9tzmx8zzzrhg8raj',\n",
       " '01dpkn8wznhfa3qa6jr83n92w0',\n",
       " '01dpknaxxk774ywvkc4xqccexa',\n",
       " '01dpknb12343sae0f718px02yz',\n",
       " '01dpknc8drm7m7nhzpf1q3c15c',\n",
       " '01dpkncmsfawf2hvqsrhhxdv0k',\n",
       " '01dpknd5d3ppz0xs4tcpmhtrtz',\n",
       " '01dpknftzp5g0peh660cn8vx7e',\n",
       " '01dpknh3114hswejx3pt2dznmb',\n",
       " '01dpknhqdg6gptkv97cfqrjdhe',\n",
       " '01dpknj6j1nqpq1d3dbkwk5ars',\n",
       " '01dpknja2k022v3kp077611mkc',\n",
       " '01dqbae23g2kr8c7zqh443pbcz',\n",
       " '01drzhg90tkekcx711nd1x1x5w',\n",
       " '01drzjxqx38z9zy07tw52b39b2',\n",
       " '01ds0rxdfkg62vmq9tw7a33x6y',\n",
       " '01ds1ebbzmfzw53jfgq46085bf',\n",
       " '01ds1g0b6ys8jm1vsevnwv700a',\n",
       " '01ds1gbarxn5mj42nrzp9b1jzk',\n",
       " '01ds1jpjsc24x4wme6ndde6zz9',\n",
       " '01ds1njm9g8p61shx1s6h69fkx',\n",
       " '01ds1qgja216dvxe2v22n4zzca',\n",
       " '01ds1qxyxeeg4gbp8nj921sn8t',\n",
       " '01ds3nbte3728ww54m4vt90wxb',\n",
       " '01ds3p3npxe2r3sfynjnmcmsgz',\n",
       " '01ds3pm83mhr8w8kfzc1xyanzm',\n",
       " '01ds3pxsvx8zag2ntevhhcwpam',\n",
       " '01ds3r2ww4hg3y6xmsw3fp1mfa',\n",
       " '01ds3s5mp4b2t345gkeh14jw3x',\n",
       " '01ds3skhpxxh6an4362mzyyqat',\n",
       " '01ds3sxqwcabe5ebp91qkfry7c',\n",
       " '01ds3th18a8yzvxh81xzan3cgq',\n",
       " '01ds3tpj3xphszn902qphydt3a',\n",
       " '01ds3v72atgadxzx0v8xed8y8n',\n",
       " '01ds3vd1hqh8fyh38mg1ens01t',\n",
       " '01ds439d51gs60hcv7qtnrxs8y',\n",
       " '01ds43pdn9p4xdpfsed3zsc8n5',\n",
       " '01ds43rya8p5sst71ntpaaper9',\n",
       " '01ds43zkwf99yrfkahw168pc1p',\n",
       " '01ds448jwkpgxk5egg34w6kcx0',\n",
       " '01ds44mt6xdh3ddgj80tq6aj2g',\n",
       " '01ds46js7kfkraqfvz88t6byqg',\n",
       " '01ds46swzd7h51y2n15h03eehw',\n",
       " '01ds472etyf0rwz68hkm3rzph7',\n",
       " '01ds48gw7438xdb7shng3fhjn2',\n",
       " '01ds48pymwdq10h1sn6gjzmv2d',\n",
       " '01ds48rf5xhbdjm9ysc660yr14',\n",
       " '01ds48vpd048fhtqz1xpyw632b',\n",
       " '01ds49q1ssrmy17gxwm8qf6zks',\n",
       " '01ds4bgjm4gfwaz69bnp6r7jw5',\n",
       " '01ds5pat7fzj5a39wrj598cvf7',\n",
       " '01dse8yf4q9qhq6sx70scw5ert',\n",
       " '01dse8z2zdazkz2skcs1e3b3hk',\n",
       " '01dseaj3m0ytaw3xa16nh0g02r',\n",
       " '01dseaspxqe6rt8g267sc2pvkr',\n",
       " '01dseayj49d6p7zt8zyvc45bpd',\n",
       " '01dsebayxn6whyx7zncfbh10jk',\n",
       " '01dsebhbszfzfqptgv05xdwww5',\n",
       " '01dsecwz1edxyv29yhmbcnp8n3',\n",
       " '01dsecx99rtfse0tk7e4g0r09k',\n",
       " '01dsed01ersg5ka7f1zy04e9ms',\n",
       " '01dsp2ppds647hvvn1gaa1f68q',\n",
       " '01dsp4j1y588e3mw2dmk0hdnw4',\n",
       " '01dsrbc9cebjxjfd7jgq9e7t5b',\n",
       " '01dsrsf2eyg3ksxbjp45qg6dj1',\n",
       " '01dszsegp1d27kkz39j8sg3c35',\n",
       " '01dt0bxsf9m1s72082bvyzrtyv',\n",
       " '01dt0c8fvzj77eemxpskd0vg3a',\n",
       " '01dt0c8krxn7w5hg5wcnd383rp',\n",
       " '01dt0c8mesyh1hskxrx5stapt7',\n",
       " '01dt0c8nm9kg2ef0a286vzrete',\n",
       " '01dt0c8pd04g034c1c04bnrx7t',\n",
       " '01dt0c92ghr9d8ybn424gfzzjp',\n",
       " '01dt0dhq0f6m3he1wf7fybgj6e',\n",
       " '01dt0dhr8x5gzyr1kvbwat3end',\n",
       " '01dt0dhsdtq34yydqz856t6wp9',\n",
       " '01dt0dhtfajsadcnhw7gfxdybf',\n",
       " '01dt0dhw8pxc8wcxmr7mjncrh7',\n",
       " '01dt0dhykwmenwg4vkkse0ha5p',\n",
       " '01dt0dhzzkz459gtem63a3j7dt',\n",
       " '01dt0dj11wj7j7szmb81sb7ykt',\n",
       " '01dt0dj24a9qm8jbzqv8j07btd',\n",
       " '01dt0dj33n4eb96mw5ye5cp5hd',\n",
       " '01dt0dj46j58gzrgc57edd1bph',\n",
       " '01dt0dj5bpp4g237x5c47b1xm6',\n",
       " '01dt0dj6gqnf86vz1eap047svc',\n",
       " '01dt0dj7khsnksyj2wgawe7djm',\n",
       " '01dt0dj8w4kjszkmmmww22y7p6',\n",
       " '01dt0dja1eab4y6fw6k3cbht3r',\n",
       " '01dt0djbap0jmkqksgcmwf8jtt',\n",
       " '01dt0djcfrf3p8n1kvnjx771gg',\n",
       " '01dt0djdhe90z4j6rswe1040kt',\n",
       " '01dt0djem4qh9ks3v0rgaykvfs',\n",
       " '01dt0djh0g3nx1vgeqw3gfh4cg',\n",
       " '01dt0djj57jwh8yhpfzb1vqs6y',\n",
       " '01dt0djkarf1pzeakqyq828awp',\n",
       " '01dt0djmgb47psw7h695cjhxnt',\n",
       " '01dt0djnhjpah6sq6nt94dc7me',\n",
       " '01dt0djphg2tw5dap9cd215tjf',\n",
       " '01dt0djqq3j6eawspmeycy5ayb',\n",
       " '01dt0djrs5aq5bqbj1105h0ats',\n",
       " '01dt0djss1y0sys1g2h13cc3y5',\n",
       " '01dt0djtyj19g9vgmwkzcth087',\n",
       " '01dt0djw9kh3tssdj4v5hb23km',\n",
       " '01dt0djxjgd4mb9sfv7cfatrvb',\n",
       " '01dt0djyvjjwym2zfg8jzvfph5',\n",
       " '01dt0dk06b7tm3krbzbwn37zs9',\n",
       " '01dt0dk28kqbteq2p30j63p0mc',\n",
       " '01dt0dk4akmdz2qvp8g9tqesef',\n",
       " '01dt0dk5jzgayr0c8983nca7t5',\n",
       " '01dt0dk6cqr76qrb678c4998na',\n",
       " '01dt0dk7av6d33grsr0sfxdh24',\n",
       " '01dt0dk8gb28p5sps3yfzg502j',\n",
       " '01dt0dk9cj1j714hwq3hhjgkny',\n",
       " '01dt0dkan5tyahacns2hv919zw',\n",
       " '01dt0dke89mpsj8j44s5d9s9v5',\n",
       " '01dt0dkeew7a764zfkw8ajympx',\n",
       " '01dt0dkez2dqz9sxhe34790qgc',\n",
       " '01dt0dkgdb174cjadzfdbaqrqg',\n",
       " '01dt0dkh3r63m6hp2dem42t32s',\n",
       " '01dt0dkkbjzdq078whzhhdng43',\n",
       " '01dt0dkmm6g7hdjs12qcwk5x4h',\n",
       " '01dt0dknpkdg0641k39jrvj5bk',\n",
       " '01dt0dkpys0v248etkrde071n4',\n",
       " '01dt0dkrtn0mm6d2sfwmw4qjhp',\n",
       " '01dt0dkv5mqv3f6h56kz0x8kaq',\n",
       " '01dt0dkwbet6s1k8v78baf01bv',\n",
       " '01dt0dkxshfhgs21qpdd3vmcn0',\n",
       " '01dt0dm2zfcwsbkz19w8wgpbqn',\n",
       " '01dt0dm44b7515p3q4d55e0tqa',\n",
       " '01dt0dm5a4qd09mg77j4sxyy0q',\n",
       " '01dt0dm6nx4zfpgp2zcadmkvqw',\n",
       " '01dt0dm82074qhcss7h3szq8an',\n",
       " '01dt0dm940sk4pn82nw294dt09',\n",
       " '01dt0dma6n86e03r4hbks2ezet',\n",
       " '01dt2czj0pnr61aex3xynxms37',\n",
       " '01dt2d39ap6t64za88wepq1c3k',\n",
       " '01dt2d39xsrfc204j231x3c7xk',\n",
       " '01dt2d3bn9k4seh71mpb7wd5wa',\n",
       " '01dt2d3ce9pppbbw8nyczxmf6p',\n",
       " '01dt2d3d3z5ve6wnaqnr3k8h7a',\n",
       " '01dt2d3e08qcr1pryv9j0a1e5y',\n",
       " '01dt2d3f2nae46mwdpfxym57kj',\n",
       " '01dt2da9xy52f7xqh552zjw43k',\n",
       " '01dt37ctqbbrgnv5gfzd7r7v8v',\n",
       " '01dt37cw9048sbbctqkvg8cpaz',\n",
       " '01dt37cx88drazcg3qkwg7nxj9',\n",
       " '01dt37cykwbymj4werf0nr6tb9',\n",
       " '01dt37czp4nsf8da2mm8bggakc',\n",
       " '01dt37d05yhqrrge1kkpbhaajp',\n",
       " '01dt37d12c9nyghcd6aygrkt2g',\n",
       " '01dt37d24ezzy0az61w5vy8wnr',\n",
       " '01dt37d30t21ntnymqd8mz13pj',\n",
       " '01dt37d41eprv5191nsvfe09e4',\n",
       " '01dt37d5vb0sgqqyd4mpkw5d7e',\n",
       " '01dt37d6yxpvm4sxphvf8z51b9',\n",
       " '01dt37d801bhagxe8bzca83g28',\n",
       " '01dt37d8yr9tywdkyrnq38drb4',\n",
       " '01dt37db8dby9kwtdgdfdf63nc',\n",
       " '01dt37ddwe4ebags7452kv1vac',\n",
       " '01dt37detxzms0j103a3d67x52',\n",
       " '01dt37dgwqavwqsh2pgm9hj2eh',\n",
       " '01dt37dhrwrs79ksnbrg7x0q6c',\n",
       " '01dt37djvbdp6796wqp3egaajm',\n",
       " '01dt37dmzecvhj6917mnntve2b',\n",
       " '01dt50jtjzd88b52hpze9vkm3f',\n",
       " '01dt50p6t778ptsce2mhzfajd9',\n",
       " '01dt50pcmrbs1sdkn810y3eqfq',\n",
       " '01dt50pgmw9cjqmkcqr2x8e9ct',\n",
       " '01dt50pz3d0rxnzfdsgtwmvxzw',\n",
       " '01dt50q42rwjxkzh537k8vwxeg',\n",
       " '01dt50q8yz9gry06t4w6knkase',\n",
       " '01dt50qdvdfnmjtr08wdexrfx4',\n",
       " '01dt50qqkqdz0w2fqsv2ha44er',\n",
       " '01dt50qzzvsqccxe33rvwp8rjk',\n",
       " '01dt50r1br975vsnw3nt4rjkbq',\n",
       " '01dt50r6jf89sfqszbw7a3d5fc',\n",
       " '01dt50rbas9fk29w12wtxwtc6d',\n",
       " '01dt50rg573byf8d1gnxsh09da',\n",
       " '01dt50rmx52h92wshrakk1032p',\n",
       " '01dt50rss8jbzhnmj94ykb0r4a',\n",
       " '01dt50rytsf5kf7878gxya79b8',\n",
       " '01dt50s3hqckvh9nsxvda7ww3s',\n",
       " '01dt50s8kby1p8m4pzd48a4hh9',\n",
       " '01dt50sdaaspsgbsv7j84e6vhq',\n",
       " '01dt50sjp37ptgzm9x24f8ya5g',\n",
       " '01dt50sq2y3j4m32q77552eh87',\n",
       " '01dt50sw23mvcxn85w2721nmzm',\n",
       " '01dt50tfs93w0nk4kxdy488t0k',\n",
       " '01dt50tmc6ebegv25z6cz28mc5',\n",
       " '01dt50ty4tq9ccfjgd3k7tgz93',\n",
       " '01dt50v301bqv31f59d2z8qx6j',\n",
       " '01dt50v7wq0r3x68yedke4tndc',\n",
       " '01dt50vcrzpkaf7y5ctpsxnhd5',\n",
       " '01dt50vhmv25y2n4hk3s8ngrdg',\n",
       " '01dt50vpj23tnsdy43eq54cgsk',\n",
       " '01dt50vve5zfh8ehpkpk5jr48g',\n",
       " '01dt50w0apcvvfmabdrxav1acn',\n",
       " '01dt50w56tk0cyf2r3003fsjas',\n",
       " '01dt50wa32fdpyb9657my5qc15',\n",
       " '01dt50wezdpyhq0wz5mtev8d78',\n",
       " '01dt50wrpwbpqs63qbx83kzcm1',\n",
       " '01dt50wxkj3zp49y5rhvk8axym',\n",
       " '01dt50xz89mhr0atrcpjgbnr3e',\n",
       " '01dt50y8zf07agzbbmqer9mb9x',\n",
       " '01dt50ydz03sw0j2rvm15fd2z0',\n",
       " '01dt50ywhzwgvp13464wfhjk3f',\n",
       " '01dt50z1cmdm2e91zbfyw8wz5a',\n",
       " '01dt50z691g9krrbrk8517chn2',\n",
       " '01dt50zb7589fm8qrx408yrpkt',\n",
       " '01dt50zg1edpg2jtmejtp80tjg',\n",
       " '01dt50zmxwft4m2hf8gxt7rt74',\n",
       " '01dt50zst2px9c1kkza4p73q5q',\n",
       " '01dt50zypb2hkx5ga67tec86dm',\n",
       " '01dt5103jneq7ryczv1c03nbe4',\n",
       " '01dt5108g29ar88x92msdtfpyg',\n",
       " '01dt510de57vshkrk6hxqbt0dp',\n",
       " '01dt510jabf5gj8frvwk3s4bas',\n",
       " '01dt510q6h4ksh0w4d4bma0ddg',\n",
       " '01dt510w1x0te6ww8kkjv6f8a5',\n",
       " '01dt5110v2me7by3jpcaj91qrw',\n",
       " '01dt5115rbn8hsgxhm1s9n5dq0',\n",
       " '01dt511amzp6w93rye6cx0tqwx',\n",
       " '01dt511fkx6312m3qmy2f4dks6',\n",
       " '01dt511md0y4h7dzcjtse2azqw',\n",
       " '01dt511s96r8yd3p4e4y42qx8a',\n",
       " '01dt511y5fqhg7h9cdn3rm7k9n',\n",
       " '01dt51234vhahgptr89szj50v0',\n",
       " '01dt51281dzcvh5ksyamqa03r8',\n",
       " '01dt512ctjkecjg1yb97x7mwng',\n",
       " '01dt512hshqxzbhr8c2d3rcxfj',\n",
       " '01dt512pkx25mv3a47wjsw94cd',\n",
       " '01dt512vdz03smbtpncrypxzzx',\n",
       " '01dt5130baw4rf9fgvekywthta',\n",
       " '01dt51357j0akk7mf29x4rp8dv',\n",
       " '01dt513a3wd9wt4hczaj4fvtws',\n",
       " '01dt513ezw6arhq45wgjs30k19',\n",
       " '01dt513mfghzp16zjwzcmatwt4',\n",
       " '01dt513rryt3skh6x25g5vch6b',\n",
       " '01dt513xn3ednfdb06jrvpx1z5',\n",
       " '01dt5142j2jptf9r7rx47emwsw',\n",
       " '01dt5147g9j5p7hn92tpbv2cg7',\n",
       " '01dt514h8xqnz0mckt7sd5ksht',\n",
       " '01dt514p25z2h1mgxs7my2h9wb',\n",
       " '01dt514zth8fxvkg9j2gxyt8a9',\n",
       " '01dt5154rr62hp8d9pmke9q0rp',\n",
       " '01dt515ej9dqgx6sqj2hg0cyq2',\n",
       " '01dt515kemtbg2ztnrhyq29pct',\n",
       " '01dt515rax3sapgfwarm3x7993',\n",
       " '01dt515x4kwjndx25vx2t9e1s7',\n",
       " '01dt5166x26k2tkt7p22n8ez1f',\n",
       " '01dt516brmmmqv5hc7f9td152s',\n",
       " '01dt516h1crmzbs41tt2a8g483',\n",
       " '01dt516tgq4efywxgkv2er5wra',\n",
       " '01dt516zcsnbkzvxtgq5djxd09',\n",
       " '01dt517464pbjsvm03zr8fpdr6',\n",
       " '01dt517935d6n4z2g1hfb4dt2a',\n",
       " '01dt517e1nsswd0y3zff8brfmz',\n",
       " '01dt517qt2mbj36rfm4nsajc3a',\n",
       " '01dt5181jma4f56gcyx18ckk27',\n",
       " '01dt518n0wcc9sba7xz7hykf6s',\n",
       " '01dt518szz6jswha8jxs1zfbw1',\n",
       " '01dt518yrw75q912yp0ynj5y3w',\n",
       " '01dt5193rcsfhmy8z7kxw2kr98',\n",
       " '01dt5198m81qekjg0w4jca6940',\n",
       " '01dt519de8bnkbt1c1p2p25mfa',\n",
       " '01dt519q6fwr89d0fswvs6y09c',\n",
       " '01dt519w15kfekc3z4hpezpkc9',\n",
       " '01dt51a0z8smdeh3x650ef33t0',\n",
       " '01dt51a5y1tvagv06wq0t1jfk4',\n",
       " '01dt51aatb6tjda52fsd48yt2y',\n",
       " '01dt51afkn7ggvg7efw0zgf3pe',\n",
       " '01dt51amgw1szrvz2hdnvznj38',\n",
       " '01dt8nbrsz7hy1ycma5ck2v7rw',\n",
       " '01dt8nbxpwvpw48vyjtbv2m8mc',\n",
       " '01dt8ncbekcfeac3fv0zy2ze7z',\n",
       " '01dt8ncndbmndqqremhh7ds6bv',\n",
       " '01dt8nct6c6734wawtyzx94se8',\n",
       " '01dt8ncz5qvtkc21f495j1wkpj',\n",
       " '01dt8nd4qvv25cdsarcdfcwz11',\n",
       " '01dt8nd94p4amw1637mcrdrfbm',\n",
       " '01dtasndtnwezm6w2ce47vhvpj',\n",
       " '01dtasnpkthp79d2qakbmp818z',\n",
       " '01dtasnvczqd122g9b5thfjsr2',\n",
       " '01dtaspaee1a42pz0kcz7r078s',\n",
       " '01dtaspfsy8q446q3tjk5cgqvh',\n",
       " '01dtatc3ss48v4scbsxsp0s4e5',\n",
       " '01dtatce55bnv1165zd99ncnnp',\n",
       " '01dtatch3mjm985d8p0z2vpsea',\n",
       " '01dtatcp2akws2p1fjgp9pndj1',\n",
       " '01dtatd00z52q6r1drg5xwn1jj',\n",
       " '01dtatd4q1n82xrqtrsy1hvp8m',\n",
       " '01dtatd9trrgqetk31eccmb464',\n",
       " '01dtatdenpz2g048q6ytm51c91',\n",
       " '01dtatdk8jn8jkg4wernmtqpb7',\n",
       " '01dtatdr81ez9s7dtyw3ne1qh0',\n",
       " '01dtatdx0yxrz63ah85dqdb9c0',\n",
       " '01dtate20bg80z0sabydkdck3b',\n",
       " '01dtate701amfwvqqnvetjng51',\n",
       " '01dtatebyyjz3zpxr7jrw1fptt',\n",
       " '01dtategrbvt69gxa1jcpj0qfk',\n",
       " '01dtatenhdtyce855ee0mrctdz',\n",
       " '01dtatet7ebbp4sdq4nsamwawx',\n",
       " '01dtatf465yms4f4q9y642pr3c',\n",
       " '01dtatf91fkbx2rw9k53jd1dq9',\n",
       " '01dtatfdx36xqb6jg6jz58az98',\n",
       " '01dtatfqh44z2tdd89xq9x2jtn',\n",
       " '01dtatfwd4yc8xx3604mvwq8gx',\n",
       " '01dtatg1jwqnb8ftqy3aw5d61p',\n",
       " '01dtatg6bve7xfnbra63dz6jen',\n",
       " '01dtatgb1xkdjj9ak0yv1r5jg5',\n",
       " '01dtatgg2xj7qtqc6a4phqryw5',\n",
       " '01dtatgn3yqgyepcxad0e207tp',\n",
       " '01dtatgsmsv7fjytpvayehpd8z',\n",
       " '01dtatgyw72e9wezhckjbdftct',\n",
       " '01dtath3f9r1e3ecwzjtkd5mja',\n",
       " '01dtath8mjjnxgjyk2af01e1w9',\n",
       " '01dtj8bnrjcmd36e0ny19mkzd3',\n",
       " '01dtj8bqzje4v5m6r7ewp63fwq',\n",
       " '01dtj8bwwde8man8p91395tgq4',\n",
       " '01dtj8c7ek8sbrp5bh7y0syjsz',\n",
       " '01dtj8cg3xydkgwa2bw1ms3fa1',\n",
       " '01dtj8cmkvfsm152egxq57e2t3',\n",
       " '01dtj8cyk1a02tkt0mc1fvrwmm',\n",
       " '01dtj8d3bjgd1b6ekp9y4qypwt',\n",
       " '01dtj8d8mepa417hp3xt1bayh6',\n",
       " '01dtj8ddag7f7xx0bbac8ak3yd',\n",
       " '01dtj8dhzppnpx2grtvpjzpncb',\n",
       " '01dtj8dq5sqybs5hx6tdh2bsjp',\n",
       " '01dtj8dw8cj8ma2b9pwkz0r7y3',\n",
       " '01dtj8e0qsd3tr3h7d1yz5ryek',\n",
       " '01dtj8e611hnd5na1rzbcwk8ea',\n",
       " '01dtj8eb30824vj8ch9g66dygc',\n",
       " '01dtj8efk5b8nxbgfw83mxf8ny',\n",
       " '01dtj8emcr26jcyawk0cyst9h7',\n",
       " '01dtj8es5swmyjahy1jjdgtx3z',\n",
       " '01dtj8f30npdvh99c4es7k4pwq',\n",
       " '01dtj8fck9vknbn5p453da5dfp',\n",
       " '01dtj8fhc9a0wkq9z30g3cs8gz',\n",
       " '01dtj8fpj0wagb5d7crrcjp941',\n",
       " '01dtj8fv80jh6gay5rgh4mcjha',\n",
       " '01dtj8g03tewres24t1r04w8r3',\n",
       " '01dtj8g50mteaz269by9pdk0mc',\n",
       " '01dtj8gew6s85xdnem3j25xt0m',\n",
       " '01dtj8grg3ct3fq3a45gt3pyp6',\n",
       " '01dtj8gxdj5ra1j6vet54mbjdb',\n",
       " '01dtjaz3j5gnxmq718t46erbax',\n",
       " '01dtjaz7f9drfpnf8w1h7sft20',\n",
       " '01dtjb97jzqy40pa00hy611fa6',\n",
       " '01dtjbey26533ckxmxh26mn2sh',\n",
       " '01dtjbf28j3f9wnydwgz5bc8cf',\n",
       " '01dtjbf7b1rd7bneavcxfqxtvq',\n",
       " '01dtjbfcd58jdp3rba6ccz8e2c',\n",
       " '01dtjbr06heyc2wwgjx1rkbza4',\n",
       " '01dtjccsqkddvy7dh821s6sdxp',\n",
       " '01dtjccy6s6kv2kjs79qk6cc08',\n",
       " '01dtjcd2qg8rkq4hjkt4gbw888',\n",
       " '01dtjcd7x94105kdse036pnp64',\n",
       " '01dtjcdccs988bepr8rvsq2mm5',\n",
       " '01dtjcdhbqhw83xqsft1wzqkx7',\n",
       " '01dtjcdp8032adg8cm387p7jyv',\n",
       " '01dtjce09pwfz6dcy0djadm4hb',\n",
       " '01dtjce596g5wganpmxnenaxfj',\n",
       " '01dtjce9zmh29twhqc1cc8awg5',\n",
       " '01dtjceepsehh29g98kndg4tfk',\n",
       " '01dtjcektmnhvsb3whg9m5v1p7',\n",
       " '01dtjcerf6f4nrz2wsjffa1eys',\n",
       " '01dtjcex7h9s5zq2mxd019m39n',\n",
       " '01dtmykag6nm4beje4fbye54yk',\n",
       " '01dtmykxrm898rstayy28jjsss',\n",
       " '01dtmyx49s7aaxvrbq95k0e87t',\n",
       " '01dtmyx91rfdd33t9t3q8pe9jb',\n",
       " '01dtmyxdr0dca4gfap4ss3wqde',\n",
       " '01dtn28tvma1ekyzs2ds4qa58s',\n",
       " '01dv4g5ff75m2r6ehjab8ew6z9',\n",
       " '01dv4gr7fny3gtqcye5y4rc8ns',\n",
       " '01dv4hsatz3x8g7m9cwkfm1f9h',\n",
       " '01dv6ha09g19tfq7ssm7bxf5bx',\n",
       " '01dv6jef1ejstvwb7yjb3f5vxq',\n",
       " '01dv6k7ts195h385x4ssp3jf5h',\n",
       " '01dv6m2fxmpw9rszwsxw1ek75w',\n",
       " '01dv6m9bhk039wp9730m31depa',\n",
       " '01dv70qznsqxn1d290cjythx8q',\n",
       " '01dv71d0xmbm4vvjk54f2hd3zg',\n",
       " '01dv72r28k2a1an5g167s6qrwf',\n",
       " '01dv90y567zvfxwntneq8hmptx',\n",
       " '01dv90yr18vzfnjejcd004agz2',\n",
       " '01dv90z6p14y6efd6dahz9sms7',\n",
       " '01dv95x5vgb6gxp57kqkz35gnz',\n",
       " '01dv95y2ng5t7arbx9a5fkmb5s',\n",
       " '01dv95ygm68m98h72472kmtvhy',\n",
       " '01dva4w4dfk30q8veh6t3w7q72',\n",
       " '01dva4xsmtz334m7sppw0m1edv',\n",
       " '01dva4xy7a0qmmsk3v3sbr52j9',\n",
       " '01dva4y85y5vztkznvekctdjxq',\n",
       " '01dva4yhjqnp81xpb75jbgq749',\n",
       " '01dva4yvm475bfghryn11n4n20',\n",
       " '01dva4zfkest038z045bwtfp77',\n",
       " '01dva4zsa3en2z65v5y9nfjyjg',\n",
       " '01dva50cb97r63hsy8rbs2ehmp',\n",
       " '01dva52zcsnyk38pn2ztm6e888',\n",
       " '01dva53ezsewvsbprzk8f752p0',\n",
       " '01dva53wn721fyka3y5gjmd2ch',\n",
       " '01dva54b99j6f2srcnmedxf3xn',\n",
       " '01dva54thcxnrkyc0yvmwgypj5',\n",
       " '01dva558ggar1bfdyzyr3pj02n',\n",
       " '01dva55j8qyggj437sgb9mt2yj',\n",
       " '01dva56mv0s00j094tfhrna7s7',\n",
       " '01dva57j7vfvrb59dhtcwjthrq',\n",
       " '01dva57vpxy3kr2h9q0w4sggsp',\n",
       " '01dva59vhyapt4pvx32nxw91g5',\n",
       " '01dva5e4p52939w0wtqbtnnjrg',\n",
       " '01dva5ejhrb1jjfsmw8wczee9x',\n",
       " '01dva7qrxm928zm0wwr7hfntc1',\n",
       " '01dva80yrd3a05gqdnz93tvvvx',\n",
       " '01dvbp9ahvqtzxjsbnj0n2nyjp',\n",
       " '01dvbr1mp53t5fgsaz4p87k4c4',\n",
       " '01dvbr574em61n3h0j8har3f8h',\n",
       " '01dvbr93y7kanze3c09yctvxdf',\n",
       " '01dvbrny5vw355nyjbdrb64ep4',\n",
       " '01dvbrqa18cnn9mkqsabwz2m6e',\n",
       " '01dvbtbphr8wjtcven5ajrhf47',\n",
       " '01dvbtevg1y5t5dfk6mwkhm13b',\n",
       " '01dvbwv4s94k2b30ysvvct9fz0',\n",
       " '01dvbwzdqbj40db22ce0c7dmya',\n",
       " '01dvbx20q1afnr7ekv2c81mdqa',\n",
       " '01dvbz7emdwy6yfmv54phv3sk2',\n",
       " '01dvbzsxgkwrek5yyvm4tdd3dv',\n",
       " '01dvc243xtqajdhbxc38gctzht',\n",
       " '01dvc24ch2536rrhvaqh9sw7gz',\n",
       " '01dvc2z06fmjdf9mr07e0vk7e9',\n",
       " '01dvc36avh56d4hx99m9acqjnj',\n",
       " '01dvc39zbdkmegc6rqks890cwd',\n",
       " '01dvc3y9e3t539sp36q9f7rvv8',\n",
       " '01dvc42j536g2a2ptzdgpz1k9c',\n",
       " '01dvc47028zytj9nnc9dstt357',\n",
       " '01dvc4xw6ddv687pwkrvnhf11j',\n",
       " '01dvc5enp72xws71vyy3dbjppw',\n",
       " '01dvc6771snbr70rx2drf0ms8e',\n",
       " '01dvcpszpvtnh3333a9a0fqhjq',\n",
       " '01dvcqk4p21spy0pm4sfjjfht5',\n",
       " '01dvcqrrx4qyjv20667zk52s82',\n",
       " '01dvcqsh9x343qwpgbxgjb9bfa',\n",
       " '01dvcqvztab36xj652hhg0e0dc',\n",
       " '01dvcr7w9hs9d92vz4jxakcbvt',\n",
       " '01dvcr9qjej1dm5h9p1fmrnzft',\n",
       " '01dvcrbd94vnmfbwe39dhyqd1h',\n",
       " '01dvcrfggw9248mdr0gx8aexqs',\n",
       " '01dvcrrbk29dwt82drbvvy544x',\n",
       " '01dvcrt1eenw5bepbr8fj4tpn8',\n",
       " '01dvcryv1mw960d0phks4ne7h6',\n",
       " '01dvcs0kfva8t43s16myfhwg31',\n",
       " '01dvcs3b9cezg31nzqgyjn09bv',\n",
       " '01dvcs43pfj2hnvt646kcxvpde',\n",
       " '01dvcs8pr46tm6x9zgj0enc7bx',\n",
       " '01dvcsc1s7686azawwgn3rkh80',\n",
       " '01dvcsh2ta2tqs9g1z2tb7we73',\n",
       " '01dvcshp93dtkgxjw2t6crm0pw',\n",
       " '01dvct2anyejbj8ekd8xjcbb7p',\n",
       " '01dvct7gk5v45ykjsrzb7v2cgx',\n",
       " '01dvctbmshfscpfjsttkdzzm0y',\n",
       " '01dvctfr5ma1zdktafs4vg4vw4',\n",
       " '01dvctxn3pvs81ce3qvrjnvztf',\n",
       " '01dvctyjvv98rpbpbvqm9tw7zk',\n",
       " '01dvcv7qb760b0a1nmywk0fnhb',\n",
       " '01dvcv9cs1y1fdnybtapvrzbyw',\n",
       " '01dvcvgdjqc4j8jj35pkz4j169',\n",
       " '01dvkdyaxx43k5cmpqb80gwwkp',\n",
       " '01dvkenzcmqnp8dr30p019c4wg',\n",
       " '01dvkew2wk3xnayymjdf6vv4xp',\n",
       " '01dvkf1wb0wcxzxnnwpq84xdmd',\n",
       " '01dvmdrmcnkse5jv4c5p38bfvs',\n",
       " '01dvme39wkp8q4tyy8p1y9wsn4',\n",
       " '01dvme78narmf9g6h5htpg72q6',\n",
       " '01dvme9pne11jdd3px6v86e163',\n",
       " '01dvmert64rsjqbbjs9973n7hf',\n",
       " '01dvmex7zjbaj9ezbjgb3fgd9s',\n",
       " '01dvmg18kshj74ry99q8xykpvd',\n",
       " '01dvmgqckryahw1285en5tstde',\n",
       " '01dvmgxzjdfxbvnznb572k1yba',\n",
       " '01dvmh0pyp8jg4skngcqcj2fxz',\n",
       " '01dvmh42br0crg0t9cvpd6ej6m',\n",
       " '01dvmhgjrrhebaqdmbm3v14a4d',\n",
       " '01dvmhjembtd641g56kn8ghk8k',\n",
       " '01dvp679n4xj1953p18wcqyz4h',\n",
       " '01dvp768c1p0ms6039ev08pbg2',\n",
       " '01dvp7n1r4t6hp6d8wc6h0ktpx',\n",
       " '01dvp7rvx271pq54tkkwq8dgyd',\n",
       " '01dvp81mr1k1rp0ndf69hdybg5',\n",
       " '01dvp83hkfwdeatpdtg0nkytqa',\n",
       " '01dvp8hwcyg3ap0z0zjfvme4w7',\n",
       " '01dvp9vhntndg4bx0sshstczg8',\n",
       " '01dvpa8gv1qv4g4jtt6rdp87km',\n",
       " '01dvpakv4anx7bxt77g0f0eart',\n",
       " '01dvpaskx8hhpqzk1bahcnqw8t',\n",
       " '01dvpasrfa5zap03e3bhn25455',\n",
       " '01dvpb4qywp3534yeym7nzqbyh',\n",
       " '01dvpbj6464ykygvae0a1hmkgn',\n",
       " '01dvpbyhbg3mvkav60dyefa0js',\n",
       " '01dvpc197ykns4qnr3hb9z0we5',\n",
       " '01dvpkaf7twygwyjxa7mm5468v',\n",
       " '01dvpm8nmpdp0peb3ah6mzxtcf',\n",
       " '01dvpmf2x9m22vbarkc5g6fxb7',\n",
       " '01dvpmpvy6emydh4gsv9ehxtfg',\n",
       " '01dvpmx90y62yjkn7fk16t2agp',\n",
       " '01dvpmymytadsez24dm3gscp8t',\n",
       " '01dvpnb5c3973wn8r7w7yvrrkt',\n",
       " '01dvpp6ap5v44ewb1bvh4dz4tm',\n",
       " '01dvpp9nxsn9481m2nvvk2rkff',\n",
       " '01dvppbzapmtrxpsfxa7cjj2w3',\n",
       " '01dvppgpmczvxstvdn8e2xsfn3',\n",
       " '01dvrf8cny8twjnd00kz2qjv7a',\n",
       " '01dvrfvrfz5e36y8nbfn6ds3mx',\n",
       " '01dvrg1pv13nn169pkrzmmjhcw',\n",
       " '01dvrg5gxewaecjz6smzze9fqb',\n",
       " '01dvrgba8mjp7kz7hznwmbtq1n',\n",
       " '01dvrghwk4jnz5d314pcc7y3vr',\n",
       " '01dvrgncm2w86bnx477pq7r3zk',\n",
       " '01dvrgq23vwbna6x3g3mws6v2j',\n",
       " '01dvrh2b2kj6xaqrtn4959qx0v',\n",
       " '01dvrh4y8zb8ytptztqzkppv69',\n",
       " '01dvrh6ex9twr0x6zgjfmqztq8',\n",
       " '01dvrhdwghx8fg6vh1wfket1n5',\n",
       " '01dvrhgpqwpvakn18rcn5s5jx8',\n",
       " '01dvrjxwe7t8g6ghrt6f120gby',\n",
       " '01dvrk0kn58j1pwmvngy831qhk',\n",
       " '01dvrk31jd4e7z2mhchpcjkbnr',\n",
       " '01dvrk6cznp6wvf9wzz0dga4js',\n",
       " '01dvrpgs3bkxjv1d39b7sc0tna',\n",
       " '01dvrpn1dtxmv71ck44qpg6vn0',\n",
       " '01dvrqecv7c5a5hp72pc1n5vvz',\n",
       " '01dvrqgz12z5s9vkrmartj93cy',\n",
       " '01dvrqp06xphaq52d8wpc84t5d',\n",
       " '01dvrqv1aqem6q2qt06f0d2ptx',\n",
       " '01dvrr6ffee96yxgavd399y8vp',\n",
       " '01dvrr8rt6xff8z7c1mb7a16z8',\n",
       " '01dvrrkewr2xtv2agnd0bs10qh',\n",
       " '01dvrrpt4d3vmyh5d567svz703',\n",
       " '01dvrrtf7jj73enzjhbzsrkhth',\n",
       " '01dvrsb8wqrrqm3kmprnz35wpa',\n",
       " '01dvrxfjp66gs347r9fzx7t6j4',\n",
       " '01dvryjhehwv94xky2f9hfe601',\n",
       " '01dvryn4b93dg09mf4ys8p5psj',\n",
       " '01dvs0c77r86tscw59g1knxp72',\n",
       " '01dvs0k29dabt1remj0jxfvt8z',\n",
       " '01dvs1bssvtbeps1njp64jxrd8',\n",
       " '01dvs1dm6h1sc40yfgp0nwq5sz',\n",
       " '01dvs1f4v223y662vkyjqswk1c',\n",
       " '01dvs1shb0mxnerkx17c3p5yxs',\n",
       " '01dvs28aca6tp5b0bwv0y62qw1',\n",
       " '01dvs2bnqbdddetcnjc2qtw0ja',\n",
       " '01dvs2f1a4edspb61ms0460fz5',\n",
       " '01dvs2gq4qe0a9gqac5fgjfs30',\n",
       " '01dvs2ym2e9q015nthqxkn16ta',\n",
       " '01dvs328frpanwmqfr8q4wspbe',\n",
       " '01dvs3946s3ccs3gq61syw5fmr',\n",
       " '01dvs3ab8e1ega9msz437jngdj',\n",
       " '01dvv2p9dr07gbxr8hq7m2gx4t',\n",
       " '01dvv33v98ysx0s0edbbkk8bpc',\n",
       " '01dvv39g81hsg02stxvtjs5dyn',\n",
       " '01dvv3we6hyrsq5znmz7a11223',\n",
       " '01dvv40thghzt6z2kmg1b6vrgh',\n",
       " '01dvv4ffytrgpcdqqmckwkq3nq',\n",
       " '01dvv4t568zk17eyq1a9kq52j0',\n",
       " '01dvv69m7j20f3cdnqevvwyz6v',\n",
       " '01dvv6k7fb8wrtrnqzj8946v7a',\n",
       " '01dvv6s0x1psfxyedshs7br4b9',\n",
       " '01dvv6vkwztyw1mw0bdc8ncxd7',\n",
       " '01dvv71qdrwa5jnnd86nxdfqpv',\n",
       " '01dvv769tdk025q8ss6g94t6eh',\n",
       " '01dvv956geh0s1es0t6kb5w95n',\n",
       " '01dvv9de8mwxdvyws0tk9vyran',\n",
       " '01dvvbr6208whc8qx2e2cv411m',\n",
       " '01dvvds1gwwatgescrae77ak2z',\n",
       " '01dvve0bwvbsy2pzheg42neqby',\n",
       " '01dvve5pq1jt2tfcrsxcyxadx3',\n",
       " '01dvvepmkcnyp363yv79g2tmxx',\n",
       " '01dvvexz8hamd0a5s25t6y8hyp',\n",
       " '01dvvf282z814x0jxvd41dt2tr',\n",
       " '01dvvfj3q19pva9ryp00bmacda',\n",
       " '01dvvftsxxb8v4qrx19d8q03gj',\n",
       " '01dvvfwancgcfk1e1wxkqr5er5',\n",
       " '01dvvjjay0287tvq95pre1s4ea',\n",
       " '01dvvk362zvw11qgxgkys51byk',\n",
       " '01dvvkwgqamj5ttm9h6fg5tdr8',\n",
       " '01dvvmb6b1j5ftgp4zevk12ecr',\n",
       " '01dwfwgzf7h7cywv2y6xm05c3w',\n",
       " '01dwfxb7018ckzwk06vphef468',\n",
       " '01dwfxsvhmeyg0r7tcngchekeg',\n",
       " '01dwj9vqesdppdk4mvdm2r15cv',\n",
       " '01dwja72ebf7wh4s7z2cee1jhm',\n",
       " '01dwjcbpq8r094aen2nmje78bf',\n",
       " '01dwjcrnw32ak8x4ygyyvdpp2d',\n",
       " '01e1jkrt9rkdnhawnk381jgtby',\n",
       " '01e1jks3jx3nfzb3mwjprsrhrk',\n",
       " '01e1jksjaz8qmc5qmj5jgpms66',\n",
       " '01e1jksqa44hyz5acgep7qjq0r',\n",
       " '01e1jkt5mf08eanhmtxwy70348',\n",
       " '01e1jktfdmvzh9r1hck1aqwnf3',\n",
       " '01e1jkv4wqypmjyvxynn4nvyk8',\n",
       " '01e1jkvcxssa375qkyt8hbtphs',\n",
       " '01e1jkw0ynxya5rzpwfvqmk8x1',\n",
       " '01e1jkwryxa24hp99zcyxc280x',\n",
       " '01e1jkx5b5nrj7jhw94r86q1m0',\n",
       " '01e1jkxpbj02k4e8132x4x8w2c',\n",
       " '01e1jky4xgatsbaydrtn86tshs',\n",
       " '01e1jky9styzbfj81ezv5pfwcb',\n",
       " '01e1jkykc98vd6tmn8hfnh68g5',\n",
       " '01e1jkyxh45zwmdtgp520mjhb6',\n",
       " '01e1jkz7cj8a3c1ppm0qcaedgy',\n",
       " '01e1jm0023vj552bmc0266swnc',\n",
       " '01e1jm049yvtf306m1camnpb9k',\n",
       " '01e1jm0dz54qbw4m51k7rekmde',\n",
       " '01e1jm0x4m9j2g533cd1wknvqr',\n",
       " '01e1jm126243v52rn9xkbm9ap3',\n",
       " '01e1jm1bgf75mdesxw4q412y8x',\n",
       " '01e1jm31fev4d4zs19fq6dq7cd',\n",
       " '01e1jm365h24jtdq0zgj4detsx',\n",
       " '01e1jm3hrmcjxk93whswx2day9',\n",
       " '01e1jm43nq3h17pb22ev3074nx',\n",
       " '01e1jm487zj4mzxehp8914zk07',\n",
       " '01e223e4wznm9bw7a6xcqmj965',\n",
       " '01e223g92tqwed1sy4mx2yc3ak',\n",
       " '01e223gqfqfhbzr1106ae2vkj3',\n",
       " '01e2c3yn4kq36a0rewzj89zn73',\n",
       " '01e2c4156v7hq9gtznv7sn4crh',\n",
       " '01e2c4xtp7jxpa5sj0vjmce4t5',\n",
       " '01e2c4xzc31kk0r12q1bczt25k',\n",
       " '01e2c4y3z43tc699ajdx3h0yt9',\n",
       " '01e2c4y8vagdxfjfffpvt9bn4j',\n",
       " '01e2c4ye77zbpx7fvk28xkzyzn',\n",
       " '01e2c4yqke1334q09fv6w6sk16',\n",
       " '01e2c4z15nvcy4479tw0wtctkh',\n",
       " '01e2c4z64gr9pxcht7mbxrg9wz',\n",
       " '01e2c4zfsr3yeeejvpfaqwf79y',\n",
       " '01e2er5ygnxd62kg1ymhr28tbe',\n",
       " '01e2ers99g4p09qh5q46y083rg',\n",
       " '01e2fdmghnzq6n3j40fqmdqn8s',\n",
       " '01e2ff7neqez8bw9jxbqwwt9tj',\n",
       " '01e2gpre3yt2sx99m34ntksvgw',\n",
       " '01e2km0kw6nb1jkmzvrxr6h8g2',\n",
       " '01e2kmhdrrn3ke97m838e9dvne',\n",
       " '01e2kmhpn32ywx4brbqrb8w75m',\n",
       " '01e2kn6ffass5m8p542k74j1m0',\n",
       " '01e2kwp2nbbw2p14hn9pbfzdhp',\n",
       " '01e2kwqx98sg1dgztfqfgvt4f3',\n",
       " '01e2kxhhywh22jsszgv71hqmem',\n",
       " '01e2kyjcc4c1sncefe3dkxykcx',\n",
       " '01e2kyx2evb3c5tjd2dhvx49gr',\n",
       " '01e2kz8bzf6m1xchbzgex3af78',\n",
       " '01e2kzvcc0gk0xcmqwpd753m5t',\n",
       " '01e2kzx1kqp4wvsa7m8jmyqftv',\n",
       " '01e2m11746f3725bma68drpm3y',\n",
       " '01e2m1887rkn9855njkgrgv1sg',\n",
       " '01e2m238zhxc923ef6gz724gyw',\n",
       " '01e2m2nqx5r4xmsjexad9wxbv4',\n",
       " '01e2m2s3cs4znntce95pnzf7ya',\n",
       " '01e2m3qta2xr190vej44zk5bcd',\n",
       " '01e2m3st2n8dxj0sqpz6jx9jzb',\n",
       " '01e2m3yp5brh2fnmz6386pbpcm',\n",
       " '01e2m46fdaw0hbfng7tn3acqjh',\n",
       " '01e2m4btqczmt0wrcamt9cx3py',\n",
       " '01e2p0sjskfknqj5svq8md1jzt',\n",
       " '01e2p0yrdtra4qm8c73wh96x0y',\n",
       " '01e2p1ygn7kc692zj2c7dpwz8n',\n",
       " '01e2p36g1adry9zbh0dkapdehy',\n",
       " '01e2p4cytm9d998hyd8whx5q1h',\n",
       " '01e2p4rm4mkqay7jc885gjq8ew',\n",
       " '01e2p5j06vwmbkkgrdmy8x74pw',\n",
       " '01e2p669ym931k4v8x376asy9m',\n",
       " '01e2p6aq96ecp2c4yw4crsjeg7',\n",
       " '01e2p6bg21zry74zq0y372z3xe',\n",
       " '01e2p8k6z6smc3t86c8p9k3cbk',\n",
       " '01e4ehhmc6yp74e9j8qv3fr4cw',\n",
       " '01e4ej8tdn6awkn5j9ym2gaa1w',\n",
       " '01e4rv11w27rpgry3pcgbb3mf4',\n",
       " '01e4rvjnqzyg4k7b71q3ky5q6c',\n",
       " '01e4rw24rga66fa5xcs425x38b',\n",
       " '01e4rw25y8zf6wkzre50y6skh5',\n",
       " '01e4rw2wp2s32sq9rhr7zam2pe',\n",
       " '01e4rw73hr2bkfk30fsgzy6k9v',\n",
       " '01e5zs3r9jd696ywgk9nsg56e1',\n",
       " '01e5zvgpshm2rk7r12fxv1z3nf',\n",
       " '01e5zvp6cr74bbba1cvzer0q7z',\n",
       " '01e5zwd39g0k62m050max8jcdg',\n",
       " '01e5zwk6ps4bben3jgcr522zeb',\n",
       " '01e5zwkt58yrdc8fxavpfpbepj',\n",
       " '01e5zxqvfe8kag8qg4n8egebp0',\n",
       " '01e5zyhza7186dvwej99q4d2pm',\n",
       " '01e5zzkz7t8dmdv5e4byvgtkee',\n",
       " '01e600dfnetdztpgrh3d3d45tn',\n",
       " '01e60166me1nng9k96s405pce1',\n",
       " '01e6016bj59znzb3whcmnkzyec',\n",
       " '01e60186c59nssejtdm1fg22nr',\n",
       " '01e601j8jq3c3nnrcr63arta81',\n",
       " '01e601yyg86yfa18jxfsm785zp',\n",
       " '01e601zhmrj28zc6g6391606t1',\n",
       " '01e602b9pb242d4kv3sbgnth8d',\n",
       " '01e603wrn25r6rg30618zvsd6p',\n",
       " '01e60479xawxr1zf0rk4t65sjx',\n",
       " '01e604cfz5zbby6sh4bm30wk1q',\n",
       " '01e604y6re4znmf27h1an22ymy']"
      ]
     },
     "execution_count": 34,
     "metadata": {},
     "output_type": "execute_result"
    }
   ],
   "source": [
    "terms"
   ]
  },
  {
   "cell_type": "markdown",
   "metadata": {},
   "source": [
    "#### trying to use the results vector to return the product id most similar to the query input"
   ]
  },
  {
   "cell_type": "code",
   "execution_count": 35,
   "metadata": {},
   "outputs": [],
   "source": [
    "# dataframe of all product ids\n",
    "tok = pd.DataFrame(terms)"
   ]
  },
  {
   "cell_type": "code",
   "execution_count": 36,
   "metadata": {},
   "outputs": [
    {
     "data": {
      "text/html": [
       "<div>\n",
       "<style scoped>\n",
       "    .dataframe tbody tr th:only-of-type {\n",
       "        vertical-align: middle;\n",
       "    }\n",
       "\n",
       "    .dataframe tbody tr th {\n",
       "        vertical-align: top;\n",
       "    }\n",
       "\n",
       "    .dataframe thead th {\n",
       "        text-align: right;\n",
       "    }\n",
       "</style>\n",
       "<table border=\"1\" class=\"dataframe\">\n",
       "  <thead>\n",
       "    <tr style=\"text-align: right;\">\n",
       "      <th></th>\n",
       "      <th>0</th>\n",
       "    </tr>\n",
       "  </thead>\n",
       "  <tbody>\n",
       "    <tr>\n",
       "      <th>0</th>\n",
       "      <td>01dmbryva2p5h24wk0htk4r0a1</td>\n",
       "    </tr>\n",
       "    <tr>\n",
       "      <th>1</th>\n",
       "      <td>01dmbryva2pepwftt7rmp5aa1t</td>\n",
       "    </tr>\n",
       "    <tr>\n",
       "      <th>2</th>\n",
       "      <td>01dmbryva2q2st7mnyr6eey4tk</td>\n",
       "    </tr>\n",
       "    <tr>\n",
       "      <th>3</th>\n",
       "      <td>01dmbryva2s5t9w793f4cy41he</td>\n",
       "    </tr>\n",
       "    <tr>\n",
       "      <th>4</th>\n",
       "      <td>01dmbryva2zfdyryy5trqzjtbd</td>\n",
       "    </tr>\n",
       "  </tbody>\n",
       "</table>\n",
       "</div>"
      ],
      "text/plain": [
       "                            0\n",
       "0  01dmbryva2p5h24wk0htk4r0a1\n",
       "1  01dmbryva2pepwftt7rmp5aa1t\n",
       "2  01dmbryva2q2st7mnyr6eey4tk\n",
       "3  01dmbryva2s5t9w793f4cy41he\n",
       "4  01dmbryva2zfdyryy5trqzjtbd"
      ]
     },
     "execution_count": 36,
     "metadata": {},
     "output_type": "execute_result"
    }
   ],
   "source": [
    "tok.head()"
   ]
  },
  {
   "cell_type": "code",
   "execution_count": 37,
   "metadata": {},
   "outputs": [],
   "source": [
    "# res is the results converted into a boolean dataframe\n",
    "# ress can be used to index tok\n",
    "res = pd.DataFrame(results.astype(bool))\n",
    "ress = res.iloc[:,0]"
   ]
  },
  {
   "cell_type": "code",
   "execution_count": 38,
   "metadata": {},
   "outputs": [
    {
     "name": "stderr",
     "output_type": "stream",
     "text": [
      "//anaconda3/lib/python3.7/site-packages/ipykernel_launcher.py:1: UserWarning: Boolean Series key will be reindexed to match DataFrame index.\n",
      "  \"\"\"Entry point for launching an IPython kernel.\n"
     ]
    },
    {
     "data": {
      "text/html": [
       "<div>\n",
       "<style scoped>\n",
       "    .dataframe tbody tr th:only-of-type {\n",
       "        vertical-align: middle;\n",
       "    }\n",
       "\n",
       "    .dataframe tbody tr th {\n",
       "        vertical-align: top;\n",
       "    }\n",
       "\n",
       "    .dataframe thead th {\n",
       "        text-align: right;\n",
       "    }\n",
       "</style>\n",
       "<table border=\"1\" class=\"dataframe\">\n",
       "  <thead>\n",
       "    <tr style=\"text-align: right;\">\n",
       "      <th></th>\n",
       "      <th>0</th>\n",
       "    </tr>\n",
       "  </thead>\n",
       "  <tbody>\n",
       "  </tbody>\n",
       "</table>\n",
       "</div>"
      ],
      "text/plain": [
       "Empty DataFrame\n",
       "Columns: [0]\n",
       "Index: []"
      ]
     },
     "execution_count": 38,
     "metadata": {},
     "output_type": "execute_result"
    }
   ],
   "source": [
    "tok[ress]"
   ]
  },
  {
   "cell_type": "code",
   "execution_count": 39,
   "metadata": {},
   "outputs": [
    {
     "data": {
      "text/plain": [
       "0.0"
      ]
     },
     "execution_count": 39,
     "metadata": {},
     "output_type": "execute_result"
    }
   ],
   "source": [
    "# this is how I realized that the results array doesn't  assign 1 to anything unless the product id is in the outfits df\n",
    "results.sum()"
   ]
  },
  {
   "cell_type": "code",
   "execution_count": 40,
   "metadata": {},
   "outputs": [
    {
     "data": {
      "text/plain": [
       "'01DDBHC62ES5K80P0KYJ56AM2T'"
      ]
     },
     "execution_count": 40,
     "metadata": {},
     "output_type": "execute_result"
    }
   ],
   "source": [
    "outfits.iloc[np.argmax(results),0]"
   ]
  },
  {
   "cell_type": "code",
   "execution_count": 41,
   "metadata": {
    "scrolled": true
   },
   "outputs": [
    {
     "data": {
      "text/plain": [
       "'01DMBRYVA2P5H24WK0HTK4R0A1'"
      ]
     },
     "execution_count": 41,
     "metadata": {},
     "output_type": "execute_result"
    }
   ],
   "source": [
    "outfits.iloc[np.argmax(results),1]"
   ]
  },
  {
   "cell_type": "code",
   "execution_count": 42,
   "metadata": {},
   "outputs": [],
   "source": [
    "# Tfidf outfit compiler\n",
    "def outfit_compiler_tfidf(text):\n",
    "    text = text\n",
    "    tokens = outfits['product_id']\n",
    "    vectorizer = TfidfVectorizer()\n",
    "    X = vectorizer.fit_transform(tokens)\n",
    "    terms = vectorizer.get_feature_names()\n",
    "    # pull product_id from text\n",
    "    product_id = re.search(r'\\(([^)]+)', text).group(1)\n",
    "    Q = vectorizer.transform([product_id]) # vectorize the query\n",
    "    results=cosine_similarity(X,Q).reshape((-1,1))\n",
    "    if(results.sum() >0):\n",
    "    #Where ever cosine similarity is a direct match we tried to find index of that row\n",
    "        boolArr = (results == 1)\n",
    "        index = np.where(boolArr)[0]\n",
    "    # get list of outfits associated with product_id\n",
    "        found_product = outfits.iloc[index,1].reset_index(drop=True)[0]\n",
    "    #get outfit that involve this product\n",
    "        found_product_outfit = outfits.iloc[index,0]\n",
    "        #print(found_product_outfit) testing output\n",
    "    # found_product_desc takes found_product and puts it  in the same format as the input\n",
    "        found_product_desc = outfits[outfits['product_id'] == found_product].iloc[0,2] + ': ' + outfits[outfits['product_id'] == found_product].iloc[0,3] + ' ' + outfits[outfits['product_id'] == found_product].iloc[0,4] + ' (' + outfits[outfits['product_id'] == found_product].iloc[0,1] + ')'\n",
    "        #print(found_product_desc) testing output\n",
    "        outfit_list = outfits['outfit_id'][outfits['product_id'] == found_product] # get list of all outfits where product id shows up\n",
    "        outfit_num = 1 #to print the outfit number\n",
    "    # iterate through each outfit\n",
    "        for outfit in outfit_list:\n",
    "            outfit_size = outfits[outfits['outfit_id'] == outfit].shape[0] #get how many products in the outfit\n",
    "            print('Outfit Recommendation', outfit_num)\n",
    "            outfit_num +=1\n",
    "        # print each piece in the outfit\n",
    "            print(found_product_desc) #print the input as the first product in the outfit\n",
    "            for i in range(outfit_size): #print the rest of the products in the outfit\n",
    "                if (outfits[outfits['outfit_id'] == outfit].iloc[i,1] != found_product):\n",
    "                    piece = outfits[outfits['outfit_id'] == outfit].iloc[i,2] + ': ' + outfits[outfits['outfit_id'] == outfit].iloc[i,3] + ' ' + outfits[outfits['outfit_id'] == outfit].iloc[i,4] + ' (' + outfits[outfits['outfit_id'] == outfit].iloc[i,1] + ')'\n",
    "                    print(piece)\n",
    "            print('\\n')\n",
    "    else:\n",
    "        outfit_compiler_fuzzy(text)\n",
    "    #print('Product ID not found--did you mean', found_product_desc, '?')\n",
    "    "
   ]
  },
  {
   "cell_type": "markdown",
   "metadata": {},
   "source": [
    "# Test the outfit compilers"
   ]
  },
  {
   "cell_type": "code",
   "execution_count": 43,
   "metadata": {},
   "outputs": [],
   "source": [
    "test_wrong = 'something random that maybe I would want (23049nnvlsjerou293094kljd)'"
   ]
  },
  {
   "cell_type": "code",
   "execution_count": 44,
   "metadata": {},
   "outputs": [],
   "source": [
    "test1 = 'bottom: Eileen Fisher Slim Knit Skirt (01DMBRYVA2P5H24WK0HTK4R0A1)'"
   ]
  },
  {
   "cell_type": "code",
   "execution_count": 45,
   "metadata": {},
   "outputs": [],
   "source": [
    "test2 = 'shoe: Tory Burch Penelope Mid Cap Toe Pump (01DMBRYVA2ZFDYRYY5TRQZJTBD)'"
   ]
  },
  {
   "cell_type": "code",
   "execution_count": 46,
   "metadata": {
    "scrolled": false
   },
   "outputs": [
    {
     "name": "stdout",
     "output_type": "stream",
     "text": [
      "Product ID not found--did you mean accessory2: Loewe Woven Fringe Open-Knit Wool Cardigan (01DVRYN4B93DG09MF4YS8P5PSJ) ?\n",
      "\n",
      "Outfit Recommendation 1\n",
      "accessory2: Loewe Woven Fringe Open-Knit Wool Cardigan (01DVRYN4B93DG09MF4YS8P5PSJ)\n",
      "accessory1: BY FAR Jamie Mini Duchesse-Satin and Croc-Effect Leather Shoulder Bag (01DT2DA9XY52F7XQH552ZJW43K)\n",
      "onepiece: Ulla Johnson Rosalie Tiered Cotton-Silk Blend Dress (01DVRYJHEHWV94XKY2F9HFE601)\n",
      "shoe: Prada Mary Jane Mules (01DVS0C77R86TSCW59G1KNXP72)\n",
      "\n",
      "\n",
      "Outfit Recommendation 2\n",
      "accessory2: Loewe Woven Fringe Open-Knit Wool Cardigan (01DVRYN4B93DG09MF4YS8P5PSJ)\n",
      "accessory1: BY FAR Jamie Mini Duchesse-Satin and Croc-Effect Leather Shoulder Bag (01DT2DA9XY52F7XQH552ZJW43K)\n",
      "shoe: Jimmy Choo Romy 100 suede pumps (01DVA80YRD3A05GQDNZ93TVVVX)\n",
      "onepiece: Ulla Johnson Rosalie Tiered Cotton-Silk Blend Dress (01DVRYJHEHWV94XKY2F9HFE601)\n",
      "\n",
      "\n",
      "Outfit Recommendation 3\n",
      "accessory2: Loewe Woven Fringe Open-Knit Wool Cardigan (01DVRYN4B93DG09MF4YS8P5PSJ)\n",
      "accessory1: BY FAR Jamie Mini Duchesse-Satin and Croc-Effect Leather Shoulder Bag (01DT2DA9XY52F7XQH552ZJW43K)\n",
      "shoe: Prada Mary Jane Mules (01DVS0C77R86TSCW59G1KNXP72)\n",
      "onepiece: REDValentino Ruffled crepe mini dress (01DVS0K29DABT1REMJ0JXFVT8Z)\n",
      "\n",
      "\n",
      "Outfit Recommendation 4\n",
      "accessory2: Loewe Woven Fringe Open-Knit Wool Cardigan (01DVRYN4B93DG09MF4YS8P5PSJ)\n",
      "accessory1: BY FAR Jamie Mini Duchesse-Satin and Croc-Effect Leather Shoulder Bag (01DT2DA9XY52F7XQH552ZJW43K)\n",
      "shoe: Jimmy Choo Romy 100 suede pumps (01DVA80YRD3A05GQDNZ93TVVVX)\n",
      "onepiece: REDValentino Ruffled crepe mini dress (01DVS0K29DABT1REMJ0JXFVT8Z)\n",
      "\n",
      "\n",
      "Outfit Recommendation 5\n",
      "accessory2: Loewe Woven Fringe Open-Knit Wool Cardigan (01DVRYN4B93DG09MF4YS8P5PSJ)\n",
      "accessory1: BY FAR Jamie Mini Duchesse-Satin and Croc-Effect Leather Shoulder Bag (01DT2DA9XY52F7XQH552ZJW43K)\n",
      "onepiece: Cami NYC The Constance lace-trimmed ruched silk-charmeuse mini dress (01DVPP6AP5V44EWB1BVH4DZ4TM)\n",
      "shoe: Prada Mary Jane Mules (01DVS0C77R86TSCW59G1KNXP72)\n",
      "\n",
      "\n",
      "Outfit Recommendation 6\n",
      "accessory2: Loewe Woven Fringe Open-Knit Wool Cardigan (01DVRYN4B93DG09MF4YS8P5PSJ)\n",
      "accessory1: BY FAR Jamie Mini Duchesse-Satin and Croc-Effect Leather Shoulder Bag (01DT2DA9XY52F7XQH552ZJW43K)\n",
      "shoe: Jimmy Choo Romy 100 suede pumps (01DVA80YRD3A05GQDNZ93TVVVX)\n",
      "onepiece: Cami NYC The Constance lace-trimmed ruched silk-charmeuse mini dress (01DVPP6AP5V44EWB1BVH4DZ4TM)\n",
      "\n",
      "\n"
     ]
    }
   ],
   "source": [
    "outfit_compiler_tfidf(test_wrong)"
   ]
  },
  {
   "cell_type": "code",
   "execution_count": 47,
   "metadata": {},
   "outputs": [
    {
     "name": "stdout",
     "output_type": "stream",
     "text": [
      "Outfit Recommendation 1\n",
      "bottom: Eileen Fisher Slim Knit Skirt (01DMBRYVA2P5H24WK0HTK4R0A1)\n",
      "top: Eileen Fisher Rib Mock Neck Tank (01DMBRYVA2PEPWFTT7RMP5AA1T)\n",
      "accessory1: kate spade new york medium margaux leather satchel (01DMBRYVA2S5T9W793F4CY41HE)\n",
      "shoe: Tory Burch Penelope Mid Cap Toe Pump (01DMBRYVA2ZFDYRYY5TRQZJTBD)\n",
      "\n",
      "\n",
      "Outfit Recommendation 2\n",
      "bottom: Eileen Fisher Slim Knit Skirt (01DMBRYVA2P5H24WK0HTK4R0A1)\n",
      "top: Eileen Fisher Rib Mock Neck Tank (01DMBRYVA2PEPWFTT7RMP5AA1T)\n",
      "shoe: Tory Burch Penelope Mid Cap Toe Pump (01DMBRYVA2ZFDYRYY5TRQZJTBD)\n",
      "accessory1: Nina Crystal Clutch (01DMHCNT41E14QWP503V7CT9G6)\n",
      "\n",
      "\n"
     ]
    }
   ],
   "source": [
    "outfit_compiler_tfidf(test1)"
   ]
  },
  {
   "cell_type": "code",
   "execution_count": 48,
   "metadata": {},
   "outputs": [
    {
     "name": "stdout",
     "output_type": "stream",
     "text": [
      "Outfit Recommendation 1\n",
      "shoe: Tory Burch Penelope Mid Cap Toe Pump (01DMBRYVA2ZFDYRYY5TRQZJTBD)\n",
      "bottom: Eileen Fisher Slim Knit Skirt (01DMBRYVA2P5H24WK0HTK4R0A1)\n",
      "top: Eileen Fisher Rib Mock Neck Tank (01DMBRYVA2PEPWFTT7RMP5AA1T)\n",
      "accessory1: kate spade new york medium margaux leather satchel (01DMBRYVA2S5T9W793F4CY41HE)\n",
      "\n",
      "\n",
      "Outfit Recommendation 2\n",
      "shoe: Tory Burch Penelope Mid Cap Toe Pump (01DMBRYVA2ZFDYRYY5TRQZJTBD)\n",
      "bottom: Eileen Fisher Slim Knit Skirt (01DMBRYVA2P5H24WK0HTK4R0A1)\n",
      "top: Eileen Fisher Rib Mock Neck Tank (01DMBRYVA2PEPWFTT7RMP5AA1T)\n",
      "accessory1: Nina Crystal Clutch (01DMHCNT41E14QWP503V7CT9G6)\n",
      "\n",
      "\n",
      "Outfit Recommendation 3\n",
      "shoe: Tory Burch Penelope Mid Cap Toe Pump (01DMBRYVA2ZFDYRYY5TRQZJTBD)\n",
      "onepiece: Equipment Chemelle Midi Dress (01DMBRYVA2Q2ST7MNYR6EEY4TK)\n",
      "accessory1: Nina Crystal Clutch (01DMHCNT41E14QWP503V7CT9G6)\n",
      "\n",
      "\n",
      "Outfit Recommendation 4\n",
      "shoe: Tory Burch Penelope Mid Cap Toe Pump (01DMBRYVA2ZFDYRYY5TRQZJTBD)\n",
      "onepiece: Equipment Chemelle Midi Dress (01DMBRYVA2Q2ST7MNYR6EEY4TK)\n",
      "accessory1: kate spade new york medium margaux leather satchel (01DMBRYVA2S5T9W793F4CY41HE)\n",
      "\n",
      "\n"
     ]
    }
   ],
   "source": [
    "outfit_compiler_tfidf(test2)"
   ]
  }
 ],
 "metadata": {
  "kernelspec": {
   "display_name": "Python 3",
   "language": "python",
   "name": "python3"
  },
  "language_info": {
   "codemirror_mode": {
    "name": "ipython",
    "version": 3
   },
   "file_extension": ".py",
   "mimetype": "text/x-python",
   "name": "python",
   "nbconvert_exporter": "python",
   "pygments_lexer": "ipython3",
   "version": "3.7.3"
  }
 },
 "nbformat": 4,
 "nbformat_minor": 2
}
