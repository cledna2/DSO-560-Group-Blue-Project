{
 "cells": [
  {
   "cell_type": "code",
   "execution_count": 30,
   "metadata": {},
   "outputs": [],
   "source": [
    "import pandas as pd\n",
    "import numpy as np\n",
    "import re\n",
    "import difflib\n",
    "from nltk.tokenize import word_tokenize\n",
    "from nltk.tokenize import sent_tokenize\n",
    "from nltk.stem import WordNetLemmatizer\n",
    "lemmatizer = WordNetLemmatizer()\n",
    "import string\n",
    "from sklearn.model_selection import train_test_split\n",
    "from sklearn.metrics import confusion_matrix\n",
    "from sklearn.metrics import accuracy_score\n",
    "from sklearn.naive_bayes import GaussianNB\n",
    "from sklearn import model_selection, naive_bayes, svm\n",
    "from nltk.collocations import BigramCollocationFinder, BigramAssocMeasures\n",
    "import warnings\n",
    "warnings.filterwarnings(\"ignore\")\n",
    "from sklearn.feature_extraction.text import TfidfVectorizer\n",
    "from nltk.corpus import stopwords\n",
    "import nltk\n",
    "import logging\n",
    "from keras.models import Sequential\n",
    "from keras import layers\n",
    "from sklearn.manifold import TSNE\n",
    "import matplotlib.pyplot as plt\n",
    "from nltk.stem.porter import PorterStemmer\n",
    "from sklearn.feature_extraction.text import CountVectorizer\n",
    "from sklearn.tree import DecisionTreeClassifier\n",
    "from sklearn.ensemble import RandomForestClassifier\n",
    "from sklearn.preprocessing import StandardScaler\n",
    "from sklearn.linear_model import LogisticRegression\n",
    "from keras.preprocessing.sequence import pad_sequences"
   ]
  },
  {
   "cell_type": "code",
   "execution_count": 31,
   "metadata": {},
   "outputs": [
    {
     "data": {
      "text/html": [
       "<div>\n",
       "<style scoped>\n",
       "    .dataframe tbody tr th:only-of-type {\n",
       "        vertical-align: middle;\n",
       "    }\n",
       "\n",
       "    .dataframe tbody tr th {\n",
       "        vertical-align: top;\n",
       "    }\n",
       "\n",
       "    .dataframe thead th {\n",
       "        text-align: right;\n",
       "    }\n",
       "</style>\n",
       "<table border=\"1\" class=\"dataframe\">\n",
       "  <thead>\n",
       "    <tr style=\"text-align: right;\">\n",
       "      <th></th>\n",
       "      <th>product_id</th>\n",
       "      <th>brand</th>\n",
       "      <th>mpn</th>\n",
       "      <th>name</th>\n",
       "      <th>description</th>\n",
       "      <th>brand_category</th>\n",
       "      <th>created_at</th>\n",
       "      <th>updated_at</th>\n",
       "      <th>deleted_at</th>\n",
       "      <th>brand_canonical_url</th>\n",
       "      <th>...</th>\n",
       "      <th>Unnamed: 246</th>\n",
       "      <th>Unnamed: 247</th>\n",
       "      <th>Unnamed: 248</th>\n",
       "      <th>Unnamed: 249</th>\n",
       "      <th>Unnamed: 250</th>\n",
       "      <th>Unnamed: 251</th>\n",
       "      <th>Unnamed: 252</th>\n",
       "      <th>Unnamed: 253</th>\n",
       "      <th>Unnamed: 254</th>\n",
       "      <th>Unnamed: 255</th>\n",
       "    </tr>\n",
       "  </thead>\n",
       "  <tbody>\n",
       "    <tr>\n",
       "      <th>0</th>\n",
       "      <td>01DSRPSZTDW2PGK1YWYXJGKZZ0</td>\n",
       "      <td>FILA</td>\n",
       "      <td>400010319073</td>\n",
       "      <td>Original Fitness Sneakers</td>\n",
       "      <td>Vintage Fitness leather sneakers with logo pri...</td>\n",
       "      <td>TheMensStore/Shoes/Sneakers/LowTop</td>\n",
       "      <td>2019-11-15 23:36:38.98161+00</td>\n",
       "      <td>2019-12-19 20:40:30.786144+00</td>\n",
       "      <td>NaN</td>\n",
       "      <td>https://www.saksfifthavenue.com/fila-original-...</td>\n",
       "      <td>...</td>\n",
       "      <td>NaN</td>\n",
       "      <td>NaN</td>\n",
       "      <td>NaN</td>\n",
       "      <td>NaN</td>\n",
       "      <td>NaN</td>\n",
       "      <td>NaN</td>\n",
       "      <td>NaN</td>\n",
       "      <td>NaN</td>\n",
       "      <td>NaN</td>\n",
       "      <td>NaN</td>\n",
       "    </tr>\n",
       "  </tbody>\n",
       "</table>\n",
       "<p>1 rows × 256 columns</p>\n",
       "</div>"
      ],
      "text/plain": [
       "                   product_id brand           mpn                       name  \\\n",
       "0  01DSRPSZTDW2PGK1YWYXJGKZZ0  FILA  400010319073  Original Fitness Sneakers   \n",
       "\n",
       "                                         description  \\\n",
       "0  Vintage Fitness leather sneakers with logo pri...   \n",
       "\n",
       "                       brand_category                    created_at  \\\n",
       "0  TheMensStore/Shoes/Sneakers/LowTop  2019-11-15 23:36:38.98161+00   \n",
       "\n",
       "                      updated_at  deleted_at  \\\n",
       "0  2019-12-19 20:40:30.786144+00         NaN   \n",
       "\n",
       "                                 brand_canonical_url  ... Unnamed: 246  \\\n",
       "0  https://www.saksfifthavenue.com/fila-original-...  ...          NaN   \n",
       "\n",
       "  Unnamed: 247 Unnamed: 248  Unnamed: 249  Unnamed: 250  Unnamed: 251  \\\n",
       "0          NaN          NaN           NaN           NaN           NaN   \n",
       "\n",
       "   Unnamed: 252  Unnamed: 253  Unnamed: 254  Unnamed: 255  \n",
       "0           NaN           NaN           NaN           NaN  \n",
       "\n",
       "[1 rows x 256 columns]"
      ]
     },
     "execution_count": 31,
     "metadata": {},
     "output_type": "execute_result"
    }
   ],
   "source": [
    "# read in full data\n",
    "data = pd.read_csv('Full+data.csv')\n",
    "data.head(1)"
   ]
  },
  {
   "cell_type": "code",
   "execution_count": 32,
   "metadata": {},
   "outputs": [
    {
     "data": {
      "text/plain": [
       "(42373, 14)"
      ]
     },
     "execution_count": 32,
     "metadata": {},
     "output_type": "execute_result"
    }
   ],
   "source": [
    "# reduce to non nan columns\n",
    "cols = data.columns[:14]\n",
    "data = data.loc[:,cols]\n",
    "data.shape"
   ]
  },
  {
   "cell_type": "code",
   "execution_count": 33,
   "metadata": {},
   "outputs": [
    {
     "data": {
      "text/html": [
       "<div>\n",
       "<style scoped>\n",
       "    .dataframe tbody tr th:only-of-type {\n",
       "        vertical-align: middle;\n",
       "    }\n",
       "\n",
       "    .dataframe tbody tr th {\n",
       "        vertical-align: top;\n",
       "    }\n",
       "\n",
       "    .dataframe thead th {\n",
       "        text-align: right;\n",
       "    }\n",
       "</style>\n",
       "<table border=\"1\" class=\"dataframe\">\n",
       "  <thead>\n",
       "    <tr style=\"text-align: right;\">\n",
       "      <th></th>\n",
       "      <th>product_id</th>\n",
       "      <th>mpn</th>\n",
       "      <th>brand</th>\n",
       "      <th>brand_category</th>\n",
       "      <th>name</th>\n",
       "      <th>labels</th>\n",
       "      <th>updated_at</th>\n",
       "      <th>bc_product_id</th>\n",
       "      <th>saleable</th>\n",
       "      <th>details</th>\n",
       "      <th>created_at</th>\n",
       "      <th>brand_canonical_url</th>\n",
       "      <th>notes</th>\n",
       "      <th>description</th>\n",
       "    </tr>\n",
       "  </thead>\n",
       "  <tbody>\n",
       "    <tr>\n",
       "      <th>0</th>\n",
       "      <td>01E5ZXP5H0BTEZT9QD2HRZJ47A</td>\n",
       "      <td>5529544</td>\n",
       "      <td>A.L.C.</td>\n",
       "      <td>Unknown</td>\n",
       "      <td>Lennox High Waist Cotton &amp; Linen Pants</td>\n",
       "      <td>[]</td>\n",
       "      <td>2020-04-17 15:44:57.785000+00:00</td>\n",
       "      <td>5021</td>\n",
       "      <td>2020-04-17 15:44:57.785000+00:00</td>\n",
       "      <td>True to size. High rise.\\n31\" inseam; 14\" leg ...</td>\n",
       "      <td>2020-04-15 21:59:56.695000+00:00</td>\n",
       "      <td>https://shop.nordstrom.com/s/a-l-c-lennox-high...</td>\n",
       "      <td>NaN</td>\n",
       "      <td>High-rise trousers tailored from a cool Italia...</td>\n",
       "    </tr>\n",
       "  </tbody>\n",
       "</table>\n",
       "</div>"
      ],
      "text/plain": [
       "                   product_id      mpn   brand brand_category  \\\n",
       "0  01E5ZXP5H0BTEZT9QD2HRZJ47A  5529544  A.L.C.        Unknown   \n",
       "\n",
       "                                     name labels  \\\n",
       "0  Lennox High Waist Cotton & Linen Pants     []   \n",
       "\n",
       "                         updated_at  bc_product_id  \\\n",
       "0  2020-04-17 15:44:57.785000+00:00           5021   \n",
       "\n",
       "                           saleable  \\\n",
       "0  2020-04-17 15:44:57.785000+00:00   \n",
       "\n",
       "                                             details  \\\n",
       "0  True to size. High rise.\\n31\" inseam; 14\" leg ...   \n",
       "\n",
       "                         created_at  \\\n",
       "0  2020-04-15 21:59:56.695000+00:00   \n",
       "\n",
       "                                 brand_canonical_url notes  \\\n",
       "0  https://shop.nordstrom.com/s/a-l-c-lennox-high...   NaN   \n",
       "\n",
       "                                         description  \n",
       "0  High-rise trousers tailored from a cool Italia...  "
      ]
     },
     "execution_count": 33,
     "metadata": {},
     "output_type": "execute_result"
    }
   ],
   "source": [
    "# import extra data\n",
    "extra_data = pd.read_csv('extra_data.csv')\n",
    "extra_data.head(1)\n"
   ]
  },
  {
   "cell_type": "code",
   "execution_count": 34,
   "metadata": {},
   "outputs": [
    {
     "data": {
      "text/html": [
       "<div>\n",
       "<style scoped>\n",
       "    .dataframe tbody tr th:only-of-type {\n",
       "        vertical-align: middle;\n",
       "    }\n",
       "\n",
       "    .dataframe tbody tr th {\n",
       "        vertical-align: top;\n",
       "    }\n",
       "\n",
       "    .dataframe thead th {\n",
       "        text-align: right;\n",
       "    }\n",
       "</style>\n",
       "<table border=\"1\" class=\"dataframe\">\n",
       "  <thead>\n",
       "    <tr style=\"text-align: right;\">\n",
       "      <th></th>\n",
       "      <th>product_id</th>\n",
       "      <th>brand</th>\n",
       "      <th>mpn</th>\n",
       "      <th>name</th>\n",
       "      <th>description</th>\n",
       "      <th>brand_category</th>\n",
       "      <th>created_at</th>\n",
       "      <th>updated_at</th>\n",
       "      <th>deleted_at</th>\n",
       "      <th>brand_canonical_url</th>\n",
       "      <th>details</th>\n",
       "      <th>labels</th>\n",
       "      <th>tsv</th>\n",
       "      <th>bc_product_id</th>\n",
       "    </tr>\n",
       "  </thead>\n",
       "  <tbody>\n",
       "    <tr>\n",
       "      <th>0</th>\n",
       "      <td>01DSRPSZTDW2PGK1YWYXJGKZZ0</td>\n",
       "      <td>FILA</td>\n",
       "      <td>400010319073</td>\n",
       "      <td>Original Fitness Sneakers</td>\n",
       "      <td>Vintage Fitness leather sneakers with logo pri...</td>\n",
       "      <td>TheMensStore/Shoes/Sneakers/LowTop</td>\n",
       "      <td>2019-11-15 23:36:38.98161+00</td>\n",
       "      <td>2019-12-19 20:40:30.786144+00</td>\n",
       "      <td>NaN</td>\n",
       "      <td>https://www.saksfifthavenue.com/fila-original-...</td>\n",
       "      <td>Leather/synthetic upper\\nLace-up closure\\nText...</td>\n",
       "      <td>{\"Needs Attributes\"}</td>\n",
       "      <td>'design':12 'fila':1A 'fit':3A,6 'leather':7 '...</td>\n",
       "      <td>NaN</td>\n",
       "    </tr>\n",
       "  </tbody>\n",
       "</table>\n",
       "</div>"
      ],
      "text/plain": [
       "                   product_id brand           mpn                       name  \\\n",
       "0  01DSRPSZTDW2PGK1YWYXJGKZZ0  FILA  400010319073  Original Fitness Sneakers   \n",
       "\n",
       "                                         description  \\\n",
       "0  Vintage Fitness leather sneakers with logo pri...   \n",
       "\n",
       "                       brand_category                    created_at  \\\n",
       "0  TheMensStore/Shoes/Sneakers/LowTop  2019-11-15 23:36:38.98161+00   \n",
       "\n",
       "                      updated_at  deleted_at  \\\n",
       "0  2019-12-19 20:40:30.786144+00         NaN   \n",
       "\n",
       "                                 brand_canonical_url  \\\n",
       "0  https://www.saksfifthavenue.com/fila-original-...   \n",
       "\n",
       "                                             details                labels  \\\n",
       "0  Leather/synthetic upper\\nLace-up closure\\nText...  {\"Needs Attributes\"}   \n",
       "\n",
       "                                                 tsv  bc_product_id  \n",
       "0  'design':12 'fila':1A 'fit':3A,6 'leather':7 '...            NaN  "
      ]
     },
     "execution_count": 34,
     "metadata": {},
     "output_type": "execute_result"
    }
   ],
   "source": [
    "data.head(1)"
   ]
  },
  {
   "cell_type": "code",
   "execution_count": 35,
   "metadata": {},
   "outputs": [
    {
     "data": {
      "text/html": [
       "<div>\n",
       "<style scoped>\n",
       "    .dataframe tbody tr th:only-of-type {\n",
       "        vertical-align: middle;\n",
       "    }\n",
       "\n",
       "    .dataframe tbody tr th {\n",
       "        vertical-align: top;\n",
       "    }\n",
       "\n",
       "    .dataframe thead th {\n",
       "        text-align: right;\n",
       "    }\n",
       "</style>\n",
       "<table border=\"1\" class=\"dataframe\">\n",
       "  <thead>\n",
       "    <tr style=\"text-align: right;\">\n",
       "      <th></th>\n",
       "      <th>product_id</th>\n",
       "      <th>mpn</th>\n",
       "      <th>brand</th>\n",
       "      <th>brand_category</th>\n",
       "      <th>name</th>\n",
       "      <th>labels</th>\n",
       "      <th>updated_at</th>\n",
       "      <th>bc_product_id</th>\n",
       "      <th>saleable</th>\n",
       "      <th>details</th>\n",
       "      <th>created_at</th>\n",
       "      <th>brand_canonical_url</th>\n",
       "      <th>notes</th>\n",
       "      <th>description</th>\n",
       "    </tr>\n",
       "  </thead>\n",
       "  <tbody>\n",
       "    <tr>\n",
       "      <th>0</th>\n",
       "      <td>01E5ZXP5H0BTEZT9QD2HRZJ47A</td>\n",
       "      <td>5529544</td>\n",
       "      <td>A.L.C.</td>\n",
       "      <td>Unknown</td>\n",
       "      <td>Lennox High Waist Cotton &amp; Linen Pants</td>\n",
       "      <td>[]</td>\n",
       "      <td>2020-04-17 15:44:57.785000+00:00</td>\n",
       "      <td>5021</td>\n",
       "      <td>2020-04-17 15:44:57.785000+00:00</td>\n",
       "      <td>True to size. High rise.\\n31\" inseam; 14\" leg ...</td>\n",
       "      <td>2020-04-15 21:59:56.695000+00:00</td>\n",
       "      <td>https://shop.nordstrom.com/s/a-l-c-lennox-high...</td>\n",
       "      <td>NaN</td>\n",
       "      <td>High-rise trousers tailored from a cool Italia...</td>\n",
       "    </tr>\n",
       "  </tbody>\n",
       "</table>\n",
       "</div>"
      ],
      "text/plain": [
       "                   product_id      mpn   brand brand_category  \\\n",
       "0  01E5ZXP5H0BTEZT9QD2HRZJ47A  5529544  A.L.C.        Unknown   \n",
       "\n",
       "                                     name labels  \\\n",
       "0  Lennox High Waist Cotton & Linen Pants     []   \n",
       "\n",
       "                         updated_at  bc_product_id  \\\n",
       "0  2020-04-17 15:44:57.785000+00:00           5021   \n",
       "\n",
       "                           saleable  \\\n",
       "0  2020-04-17 15:44:57.785000+00:00   \n",
       "\n",
       "                                             details  \\\n",
       "0  True to size. High rise.\\n31\" inseam; 14\" leg ...   \n",
       "\n",
       "                         created_at  \\\n",
       "0  2020-04-15 21:59:56.695000+00:00   \n",
       "\n",
       "                                 brand_canonical_url notes  \\\n",
       "0  https://shop.nordstrom.com/s/a-l-c-lennox-high...   NaN   \n",
       "\n",
       "                                         description  \n",
       "0  High-rise trousers tailored from a cool Italia...  "
      ]
     },
     "execution_count": 35,
     "metadata": {},
     "output_type": "execute_result"
    }
   ],
   "source": [
    "extra_data.head(1)"
   ]
  },
  {
   "cell_type": "markdown",
   "metadata": {},
   "source": [
    "Extra_data and Full_data do not have the same columns. So, we subset the data for only important columns and the join the dataframes"
   ]
  },
  {
   "cell_type": "code",
   "execution_count": 36,
   "metadata": {},
   "outputs": [],
   "source": [
    "# columns to use from extra_data\n",
    "cols = ['product_id', 'brand', 'name', 'description', 'brand_category', 'brand_canonical_url','details']"
   ]
  },
  {
   "cell_type": "code",
   "execution_count": 37,
   "metadata": {},
   "outputs": [],
   "source": [
    "extra_data = extra_data.loc[:,cols]\n",
    "data = data.loc[:,cols]"
   ]
  },
  {
   "cell_type": "code",
   "execution_count": 38,
   "metadata": {},
   "outputs": [
    {
     "name": "stdout",
     "output_type": "stream",
     "text": [
      "(6621, 7)\n"
     ]
    },
    {
     "data": {
      "text/plain": [
       "(42373, 7)"
      ]
     },
     "execution_count": 38,
     "metadata": {},
     "output_type": "execute_result"
    }
   ],
   "source": [
    "print(extra_data.shape)\n",
    "data.shape"
   ]
  },
  {
   "cell_type": "code",
   "execution_count": 39,
   "metadata": {},
   "outputs": [],
   "source": [
    "# we will join brand and brand_category together to brand_info\n",
    "\n",
    "#data['brand_info'] = data['brand']+data['brand_category']+ \" \" +data['brand_canonical_url']\n",
    "#extra_data['brand_info'] = extra_data['brand']+extra_data['brand_category']+data['brand_canonical_url']\n",
    "\n",
    "#drop brand and brand category\n",
    "\n",
    "#data = data.drop(['brand','brand_category','brand_canonical_url'],axis = 1)\n",
    "#extra_data = extra_data.drop(['brand','brand_category','brand_canonical_url'],axis = 1)"
   ]
  },
  {
   "cell_type": "code",
   "execution_count": 40,
   "metadata": {},
   "outputs": [
    {
     "data": {
      "text/plain": [
       "True"
      ]
     },
     "execution_count": 40,
     "metadata": {},
     "output_type": "execute_result"
    }
   ],
   "source": [
    "# concatenate data and extra data\n",
    "full_data = pd.concat([data,extra_data])\n",
    "len(full_data) == len(data) + len(extra_data)"
   ]
  },
  {
   "cell_type": "markdown",
   "metadata": {},
   "source": [
    "Now, we merge the all tags provided to us and join it with the product information"
   ]
  },
  {
   "cell_type": "code",
   "execution_count": 41,
   "metadata": {},
   "outputs": [
    {
     "data": {
      "text/plain": [
       "(21925, 4)"
      ]
     },
     "execution_count": 41,
     "metadata": {},
     "output_type": "execute_result"
    }
   ],
   "source": [
    "tags = pd.read_excel('USC+Product+Attribute+Data+03302020.xlsx')\n",
    "tags.shape"
   ]
  },
  {
   "cell_type": "code",
   "execution_count": 42,
   "metadata": {},
   "outputs": [
    {
     "data": {
      "text/plain": [
       "(97420, 4)"
      ]
     },
     "execution_count": 42,
     "metadata": {},
     "output_type": "execute_result"
    }
   ],
   "source": [
    "add_tags = pd.read_csv('usc_additional_tags.csv')\n",
    "add_tags.shape"
   ]
  },
  {
   "cell_type": "code",
   "execution_count": 43,
   "metadata": {},
   "outputs": [
    {
     "data": {
      "text/plain": [
       "True"
      ]
     },
     "execution_count": 43,
     "metadata": {},
     "output_type": "execute_result"
    }
   ],
   "source": [
    "all_tags = pd.concat([tags,add_tags])\n",
    "len(all_tags) == len(tags) + len(add_tags)"
   ]
  },
  {
   "cell_type": "code",
   "execution_count": 44,
   "metadata": {},
   "outputs": [
    {
     "data": {
      "text/html": [
       "<div>\n",
       "<style scoped>\n",
       "    .dataframe tbody tr th:only-of-type {\n",
       "        vertical-align: middle;\n",
       "    }\n",
       "\n",
       "    .dataframe tbody tr th {\n",
       "        vertical-align: top;\n",
       "    }\n",
       "\n",
       "    .dataframe thead th {\n",
       "        text-align: right;\n",
       "    }\n",
       "</style>\n",
       "<table border=\"1\" class=\"dataframe\">\n",
       "  <thead>\n",
       "    <tr style=\"text-align: right;\">\n",
       "      <th></th>\n",
       "      <th>product_id</th>\n",
       "      <th>product_color_id</th>\n",
       "      <th>attribute_name</th>\n",
       "      <th>attribute_value</th>\n",
       "    </tr>\n",
       "  </thead>\n",
       "  <tbody>\n",
       "    <tr>\n",
       "      <th>0</th>\n",
       "      <td>01DVBTBPHR8WJTCVEN5AJRHF47</td>\n",
       "      <td>01DVBTBPJ41VVT00JJCG8TTZ2W</td>\n",
       "      <td>gender</td>\n",
       "      <td>Women</td>\n",
       "    </tr>\n",
       "  </tbody>\n",
       "</table>\n",
       "</div>"
      ],
      "text/plain": [
       "                   product_id            product_color_id attribute_name  \\\n",
       "0  01DVBTBPHR8WJTCVEN5AJRHF47  01DVBTBPJ41VVT00JJCG8TTZ2W         gender   \n",
       "\n",
       "  attribute_value  \n",
       "0           Women  "
      ]
     },
     "execution_count": 44,
     "metadata": {},
     "output_type": "execute_result"
    }
   ],
   "source": [
    "all_tags.head(1)"
   ]
  },
  {
   "cell_type": "code",
   "execution_count": 45,
   "metadata": {},
   "outputs": [
    {
     "data": {
      "text/plain": [
       "(119345, 3)"
      ]
     },
     "execution_count": 45,
     "metadata": {},
     "output_type": "execute_result"
    }
   ],
   "source": [
    "# remove product_color_id\n",
    "all_tags = all_tags.loc[:,['product_id','attribute_name','attribute_value']]\n",
    "all_tags.shape"
   ]
  },
  {
   "cell_type": "markdown",
   "metadata": {},
   "source": [
    "subsetting the tags just for attribute_name = color. So, that when we merge back there is no multiple records"
   ]
  },
  {
   "cell_type": "code",
   "execution_count": 46,
   "metadata": {},
   "outputs": [
    {
     "name": "stdout",
     "output_type": "stream",
     "text": [
      "All :(9858, 3)\n",
      "Clean:(9348, 3)\n"
     ]
    }
   ],
   "source": [
    "colors = all_tags[all_tags['attribute_name'].str.contains(r'color', flags=re.IGNORECASE)]\n",
    "print(f'All :{colors.shape}')\n",
    "colors = colors.drop_duplicates()\n",
    "print(f'Clean:{colors.shape}')"
   ]
  },
  {
   "cell_type": "code",
   "execution_count": 47,
   "metadata": {},
   "outputs": [
    {
     "data": {
      "text/plain": [
       "array(['Blacks', 'Pinks', 'Browns', 'Golds', 'Whites', 'Reds', 'Navy',\n",
       "       'Beiges', 'Blues', 'Greens', 'Silvers', 'Neutrals', 'Yellows',\n",
       "       'Grays', 'Burgundies', 'Purples', 'Multi', 'Oranges', 'Teal',\n",
       "       'blues', 'blacks', 'yellows', 'oranges', 'whites', 'multi', 'navy',\n",
       "       'darkbrowns', 'grays', 'greens', 'pinks', 'beiges', 'golds',\n",
       "       'silvers', 'lightbrowns', 'reds', 'lightbrown', 'burgundies',\n",
       "       'purples', 'teal'], dtype=object)"
      ]
     },
     "execution_count": 47,
     "metadata": {},
     "output_type": "execute_result"
    }
   ],
   "source": [
    "colors['attribute_value'].unique()"
   ]
  },
  {
   "cell_type": "markdown",
   "metadata": {},
   "source": [
    "We see that naming is not consistent. So, we clean the data to make it same"
   ]
  },
  {
   "cell_type": "code",
   "execution_count": 48,
   "metadata": {},
   "outputs": [
    {
     "name": "stdout",
     "output_type": "stream",
     "text": [
      "Clean:(9348, 3)\n"
     ]
    }
   ],
   "source": [
    "colors['attribute_value'] = colors['attribute_value'].str.lower()\n",
    "colors = colors.drop_duplicates()\n",
    "print(f'Clean:{colors.shape}')"
   ]
  },
  {
   "cell_type": "code",
   "execution_count": 49,
   "metadata": {},
   "outputs": [
    {
     "data": {
      "text/plain": [
       "array(['blacks', 'pinks', 'browns', 'golds', 'whites', 'reds', 'navy',\n",
       "       'beiges', 'blues', 'greens', 'silvers', 'neutrals', 'yellows',\n",
       "       'grays', 'burgundies', 'purples', 'multi', 'oranges', 'teal',\n",
       "       'darkbrowns', 'lightbrowns', 'lightbrown'], dtype=object)"
      ]
     },
     "execution_count": 49,
     "metadata": {},
     "output_type": "execute_result"
    }
   ],
   "source": [
    "colors['attribute_value'].unique()"
   ]
  },
  {
   "cell_type": "code",
   "execution_count": 50,
   "metadata": {},
   "outputs": [],
   "source": [
    "# light brown and dark brown should be categorized as brown"
   ]
  },
  {
   "cell_type": "code",
   "execution_count": 51,
   "metadata": {},
   "outputs": [],
   "source": [
    "colors['attribute_value'] = colors['attribute_value'].str.replace('darkbrowns', 'browns')\n",
    "colors['attribute_value'] = colors['attribute_value'].str.replace('lightbrowns', 'browns')\n",
    "colors['attribute_value'] = colors['attribute_value'].str.replace('lightbrown', 'browns')"
   ]
  },
  {
   "cell_type": "code",
   "execution_count": 52,
   "metadata": {},
   "outputs": [
    {
     "data": {
      "text/plain": [
       "array(['blacks', 'pinks', 'browns', 'golds', 'whites', 'reds', 'navy',\n",
       "       'beiges', 'blues', 'greens', 'silvers', 'neutrals', 'yellows',\n",
       "       'grays', 'burgundies', 'purples', 'multi', 'oranges', 'teal'],\n",
       "      dtype=object)"
      ]
     },
     "execution_count": 52,
     "metadata": {},
     "output_type": "execute_result"
    }
   ],
   "source": [
    "colors.attribute_value.unique()"
   ]
  },
  {
   "cell_type": "code",
   "execution_count": 53,
   "metadata": {},
   "outputs": [],
   "source": [
    "# create dummy variables for each color value\n",
    "colors['is_black'] = colors['attribute_value'].apply(lambda x: 1 if x == 'blacks' else 0)\n",
    "colors['is_beige'] = colors['attribute_value'].apply(lambda x: 1 if x == 'beiges' else 0)\n",
    "colors['is_burgundy'] = colors['attribute_value'].apply(lambda x: 1 if x == 'burgundies' else 0)\n",
    "colors['is_white'] = colors['attribute_value'].apply(lambda x: 1 if x == 'whites' else 0)\n",
    "colors['is_gray'] = colors['attribute_value'].apply(lambda x: 1 if x == 'grays' else 0)\n",
    "colors['is_gold'] = colors['attribute_value'].apply(lambda x: 1 if x == 'golds' else 0)\n",
    "colors['is_blue'] = colors['attribute_value'].apply(lambda x: 1 if x == 'blues' else 0)\n",
    "colors['is_neutral'] = colors['attribute_value'].apply(lambda x: 1 if x == 'neutrals' else 0)\n",
    "colors['is_pink'] = colors['attribute_value'].apply(lambda x: 1 if x == 'pinks' else 0)\n",
    "colors['is_orange'] = colors['attribute_value'].apply(lambda x: 1 if x == 'oranges' else 0)\n",
    "colors['is_navy'] = colors['attribute_value'].apply(lambda x: 1 if x == 'navy' else 0)\n",
    "colors['is_brown'] = colors['attribute_value'].apply(lambda x: 1 if x == 'browns' else 0)\n",
    "colors['is_red'] = colors['attribute_value'].apply(lambda x: 1 if x == 'reds' else 0)\n",
    "colors['is_yellow'] = colors['attribute_value'].apply(lambda x: 1 if x == 'yellows' else 0)\n",
    "colors['is_multi'] = colors['attribute_value'].apply(lambda x: 1 if x == 'multi' else 0)\n",
    "colors['is_green'] = colors['attribute_value'].apply(lambda x: 1 if x == 'greens' else 0)\n",
    "colors['is_silver'] = colors['attribute_value'].apply(lambda x: 1 if x == 'silvers' else 0)\n",
    "colors['is_teal'] = colors['attribute_value'].apply(lambda x: 1 if x == 'teal' else 0)\n",
    "colors['is_purple'] = colors['attribute_value'].apply(lambda x: 1 if x == 'purples' else 0)"
   ]
  },
  {
   "cell_type": "code",
   "execution_count": 54,
   "metadata": {},
   "outputs": [
    {
     "data": {
      "text/plain": [
       "(9348, 22)"
      ]
     },
     "execution_count": 54,
     "metadata": {},
     "output_type": "execute_result"
    }
   ],
   "source": [
    "colors.shape"
   ]
  },
  {
   "cell_type": "code",
   "execution_count": 55,
   "metadata": {},
   "outputs": [],
   "source": [
    "# tag each product id with all colors that it's tagged as\n",
    "\n",
    "black = colors[['product_id','is_black']]\n",
    "tags_black = black.groupby(['product_id'])['is_black'].max().reset_index()\n",
    "\n",
    "beige = colors[['product_id','is_beige']]\n",
    "tags_beige = beige.groupby(['product_id'])['is_beige'].max().reset_index()\n",
    "\n",
    "burgundy = colors[['product_id','is_burgundy']]\n",
    "tags_burgundy = burgundy.groupby(['product_id'])['is_burgundy'].max().reset_index()\n",
    "\n",
    "white = colors[['product_id','is_white']]\n",
    "tags_white = white.groupby(['product_id'])['is_white'].max().reset_index()\n",
    "\n",
    "gray = colors[['product_id','is_gray']]\n",
    "tags_gray = gray.groupby(['product_id'])['is_gray'].max().reset_index()\n",
    "\n",
    "gold = colors[['product_id','is_gold']]\n",
    "tags_gold = gold.groupby(['product_id'])['is_gold'].max().reset_index()\n",
    "\n",
    "blue = colors[['product_id','is_blue']]\n",
    "tags_blue = blue.groupby(['product_id'])['is_blue'].max().reset_index()\n",
    "\n",
    "neutral = colors[['product_id','is_neutral']]\n",
    "tags_neutral = neutral.groupby(['product_id'])['is_neutral'].max().reset_index()\n",
    "\n",
    "pink = colors[['product_id','is_pink']]\n",
    "tags_pink = pink.groupby(['product_id'])['is_pink'].max().reset_index()\n",
    "\n",
    "orange = colors[['product_id','is_orange']]\n",
    "tags_orange = orange.groupby(['product_id'])['is_orange'].max().reset_index()\n",
    "\n",
    "navy = colors[['product_id','is_navy']]\n",
    "tags_navy = navy.groupby(['product_id'])['is_navy'].max().reset_index()\n",
    "\n",
    "brown = colors[['product_id','is_brown']]\n",
    "tags_brown = brown.groupby(['product_id'])['is_brown'].max().reset_index()\n",
    "\n",
    "red = colors[['product_id','is_red']]\n",
    "tags_red = red.groupby(['product_id'])['is_red'].max().reset_index()\n",
    "\n",
    "yellow = colors[['product_id','is_yellow']]\n",
    "tags_yellow = yellow.groupby(['product_id'])['is_yellow'].max().reset_index()\n",
    "\n",
    "multi = colors[['product_id','is_multi']]\n",
    "tags_multi = multi.groupby(['product_id'])['is_multi'].max().reset_index()\n",
    "\n",
    "green = colors[['product_id','is_green']]\n",
    "tags_green = green.groupby(['product_id'])['is_green'].max().reset_index()\n",
    "\n",
    "silver = colors[['product_id','is_silver']]\n",
    "tags_silver = silver.groupby(['product_id'])['is_silver'].max().reset_index()\n",
    "\n",
    "teal = colors[['product_id','is_teal']]\n",
    "tags_teal = teal.groupby(['product_id'])['is_teal'].max().reset_index()\n",
    "\n",
    "purple = colors[['product_id','is_purple']]\n",
    "tags_purple = purple.groupby(['product_id'])['is_purple'].max().reset_index()"
   ]
  },
  {
   "cell_type": "code",
   "execution_count": 56,
   "metadata": {},
   "outputs": [],
   "source": [
    "df_list = [tags_black, tags_beige, tags_burgundy, tags_white, tags_gray, tags_gold, tags_blue, tags_neutral, tags_pink, tags_orange, tags_navy, tags_brown, tags_red, tags_yellow, tags_multi, tags_green, tags_silver, tags_teal, tags_purple]\n",
    "for df_ in df_list:\n",
    "    tags = pd.merge(tags, df_, on='product_id', how='left')\n",
    "tags_color_all = tags"
   ]
  },
  {
   "cell_type": "code",
   "execution_count": 57,
   "metadata": {},
   "outputs": [],
   "source": [
    "tags_color_all.to_csv('color.csv')"
   ]
  },
  {
   "cell_type": "markdown",
   "metadata": {},
   "source": [
    "# Start Cleaning"
   ]
  },
  {
   "cell_type": "code",
   "execution_count": 58,
   "metadata": {},
   "outputs": [],
   "source": [
    "# merge full data with tags\n",
    "data_color = pd.merge(full_data,tags_color_all,on='product_id', how = 'inner')"
   ]
  },
  {
   "cell_type": "code",
   "execution_count": 60,
   "metadata": {},
   "outputs": [],
   "source": [
    "data_color.fillna('UNKNOWNTOKEN',inplace=True)"
   ]
  },
  {
   "cell_type": "code",
   "execution_count": 61,
   "metadata": {},
   "outputs": [],
   "source": [
    "data_color.to_csv('color_uncleaned.csv')"
   ]
  },
  {
   "cell_type": "code",
   "execution_count": 141,
   "metadata": {},
   "outputs": [],
   "source": [
    "# function to remove stopwords\n",
    "from gensim.parsing.preprocessing import STOPWORDS\n",
    "stop = set(STOPWORDS)\n",
    "def remove_stopwords(data_col):\n",
    "    new_list = []\n",
    "    a = data_col\n",
    "    for i in range(0,len(a)):\n",
    "        words = word_tokenize(a[i])\n",
    "        res_words = []\n",
    "        for word in words:\n",
    "            if word not in stop:\n",
    "                res_words.append(word)\n",
    "            sentence = \" \".join(res_words)\n",
    "        new_list.append(sentence)\n",
    "    return new_list"
   ]
  },
  {
   "cell_type": "code",
   "execution_count": 142,
   "metadata": {},
   "outputs": [],
   "source": [
    "# remove stopwords from each of the 4 columns\n",
    "data_color['description'] = remove_stopwords(data_color['description'])\n",
    "data_color['details'] = remove_stopwords(data_color['details'])\n",
    "data_color['name'] = remove_stopwords(data_color['name'])\n",
    "data_color['brand'] = remove_stopwords(data_color['brand'])\n",
    "data_color['brand_category'] = remove_stopwords(data_color['brand_category'])"
   ]
  },
  {
   "cell_type": "code",
   "execution_count": 143,
   "metadata": {},
   "outputs": [],
   "source": [
    "# function to do regex cleaning\n",
    "def reg_clean(data,col):\n",
    "    new_list = []\n",
    "    for i in range(0,len(data)):\n",
    "        #special characters \n",
    "        a = re.sub(r'[^ a-zA-Z0-9]',' ',data.loc[i,col])\n",
    "        #new lines\n",
    "        a = re.sub(r'\\n',' ', a)\n",
    "        #remove multiple spaces by a single space\n",
    "        a = re.sub(r'\\s+',' ',a)\n",
    "        #timestamp\n",
    "        a = re.sub(r'\\b[0-9]{1,}am|[0-9]{1,}pm|[0-9]{4,}|[0-9]ish|1st|2nd|3rd|[0-9]{1,2}th|31st|[0-9]{1,}min(?:utes)?s?|[0-9]{1,}h(?:ou)?rs?|[0-9]{3,}\\b','timestamp',a)\n",
    "        a = re.sub(r'\\b[0-9]{1,}timestamp\\b','timestamp',a)\n",
    "        #any numbers as digit\n",
    "        a = re.sub(r'\\b\\d+\\b','digit',a)\n",
    "        #number followed by a variable\n",
    "        a = re.sub(r'\\b\\d{1,}[a-z]{0,}[0-9]{0,}','varchar',a)\n",
    "        #html codes\n",
    "        a = re.sub(r'<.+?>','html',a)\n",
    "        a = re.sub(r'https|www|com','html',a)\n",
    "        # additional stopwords\n",
    "        a = re.sub(r'\\ba\\b', '', a, flags = re.IGNORECASE)\n",
    "        a = re.sub(r'\\bthis|the\\b', '',a, flags = re.IGNORECASE)\n",
    "        new_list.append(a)\n",
    "    return new_list"
   ]
  },
  {
   "cell_type": "code",
   "execution_count": 144,
   "metadata": {},
   "outputs": [],
   "source": [
    "# perform regex cleaning on each column\n",
    "data_color['description'] = reg_clean(data_color,'description')\n",
    "data_color['details'] = reg_clean(data_color,'details')\n",
    "data_color['brand'] = reg_clean(data_color,'brand')\n",
    "data_color['name'] = reg_clean(data_color, 'name')\n",
    "data_color['brand_category'] = reg_clean(data_color,'brand_category')"
   ]
  },
  {
   "cell_type": "code",
   "execution_count": 145,
   "metadata": {},
   "outputs": [],
   "source": [
    "#words = set(map(lambda word: word.replace(\"\\n\", \"\"), open(\"20k.txt\").readlines()))"
   ]
  },
  {
   "cell_type": "code",
   "execution_count": 146,
   "metadata": {},
   "outputs": [],
   "source": [
    "# function to perform spell checking\n",
    "#def spellcheck_document(text):\n",
    "#    new_tokens = []\n",
    "#    for token in word_tokenize(text):\n",
    "#        matches = difflib.get_close_matches(token, words, n=1, cutoff=0.7)\n",
    "#        if len(matches) == 0 or token.lower() in words:\n",
    "#            new_tokens.append(token)\n",
    "#        else:\n",
    "#            new_tokens.append(matches[0])\n",
    "#    return \" \".join(new_tokens)\n",
    "#spellcheck_document(\"He is a craezy perzon\")"
   ]
  },
  {
   "cell_type": "code",
   "execution_count": 147,
   "metadata": {},
   "outputs": [],
   "source": [
    "# attempted to spell check for 3 hours, but it only got 1/3 of the way through 1 column\n",
    "# opted not to run this since I don't have the processing power to do it quickly"
   ]
  },
  {
   "cell_type": "code",
   "execution_count": 148,
   "metadata": {},
   "outputs": [],
   "source": [
    "#spell check the whole document apart from product_id we have added unknown_text as well so that it does not return unknown\n",
    "#cols = data_color.columns[1:5]\n",
    "#for col in cols:\n",
    "#    new_list = []\n",
    "#    for i in range(0,len(data_color)):\n",
    "#        new_list.append(spellcheck_document(data_color.loc[i,col]))\n",
    "#        if i%5000 == 0:\n",
    "#            print(i)\n",
    "#    data_color.col = new_list\n",
    "#    print(col)\n",
    "#data_color.head(5)"
   ]
  },
  {
   "cell_type": "code",
   "execution_count": 149,
   "metadata": {},
   "outputs": [],
   "source": [
    "# function to lemmatize columns\n",
    "def lemmatize_sentence(data_col):\n",
    "    new_list = []\n",
    "    a = data_col \n",
    "    for i in range(0,len(a)):\n",
    "        words = word_tokenize(a[i])\n",
    "        res_words = []\n",
    "        for word in words:\n",
    "            res_words.append(lemmatizer.lemmatize(word).strip(string.punctuation))\n",
    "        sentence = \" \".join(res_words)\n",
    "        new_list.append(sentence)\n",
    "    return new_list"
   ]
  },
  {
   "cell_type": "code",
   "execution_count": 150,
   "metadata": {},
   "outputs": [],
   "source": [
    "# lemmatize each column\n",
    "data_color['description'] = lemmatize_sentence(data_color['description'])\n",
    "data_color['details'] = lemmatize_sentence(data_color['details'])\n",
    "data_color['brand'] = lemmatize_sentence(data_color['brand'])\n",
    "data_color['name'] = lemmatize_sentence(data_color['name'])\n",
    "data_color['brand_category'] = lemmatize_sentence(data_color['brand_category'])"
   ]
  },
  {
   "cell_type": "code",
   "execution_count": 151,
   "metadata": {},
   "outputs": [
    {
     "data": {
      "text/html": [
       "<div>\n",
       "<style scoped>\n",
       "    .dataframe tbody tr th:only-of-type {\n",
       "        vertical-align: middle;\n",
       "    }\n",
       "\n",
       "    .dataframe tbody tr th {\n",
       "        vertical-align: top;\n",
       "    }\n",
       "\n",
       "    .dataframe thead th {\n",
       "        text-align: right;\n",
       "    }\n",
       "</style>\n",
       "<table border=\"1\" class=\"dataframe\">\n",
       "  <thead>\n",
       "    <tr style=\"text-align: right;\">\n",
       "      <th></th>\n",
       "      <th>product_id</th>\n",
       "      <th>brand</th>\n",
       "      <th>name</th>\n",
       "      <th>description</th>\n",
       "      <th>brand_category</th>\n",
       "      <th>brand_canonical_url</th>\n",
       "      <th>details</th>\n",
       "      <th>product_color_id</th>\n",
       "      <th>attribute_name</th>\n",
       "      <th>attribute_value</th>\n",
       "      <th>...</th>\n",
       "      <th>is_orange</th>\n",
       "      <th>is_navy</th>\n",
       "      <th>is_brown</th>\n",
       "      <th>is_red</th>\n",
       "      <th>is_yellow</th>\n",
       "      <th>is_multi</th>\n",
       "      <th>is_green</th>\n",
       "      <th>is_silver</th>\n",
       "      <th>is_teal</th>\n",
       "      <th>is_purple</th>\n",
       "    </tr>\n",
       "  </thead>\n",
       "  <tbody>\n",
       "    <tr>\n",
       "      <th>0</th>\n",
       "      <td>01DTJCERF6F4NRZ2WSJFFA1EYS</td>\n",
       "      <td>Theory</td>\n",
       "      <td>Teah stretch silk camisole</td>\n",
       "      <td>Beige stretch silk Slips digit silk digit span...</td>\n",
       "      <td>Clothing Tops Tanks Camis</td>\n",
       "      <td>https://www.net-a-porter.com/us/en/product/119...</td>\n",
       "      <td>Fits true size normal size Cut slightly loose ...</td>\n",
       "      <td>01DTJCERGEHDMQ5FAJQS2PZ6NJ</td>\n",
       "      <td>neckline</td>\n",
       "      <td>Scoop Neck</td>\n",
       "      <td>...</td>\n",
       "      <td>0</td>\n",
       "      <td>0</td>\n",
       "      <td>0</td>\n",
       "      <td>0</td>\n",
       "      <td>0</td>\n",
       "      <td>0</td>\n",
       "      <td>0</td>\n",
       "      <td>0</td>\n",
       "      <td>0</td>\n",
       "      <td>0</td>\n",
       "    </tr>\n",
       "  </tbody>\n",
       "</table>\n",
       "<p>1 rows × 29 columns</p>\n",
       "</div>"
      ],
      "text/plain": [
       "                   product_id   brand                        name  \\\n",
       "0  01DTJCERF6F4NRZ2WSJFFA1EYS  Theory  Teah stretch silk camisole   \n",
       "\n",
       "                                         description  \\\n",
       "0  Beige stretch silk Slips digit silk digit span...   \n",
       "\n",
       "              brand_category  \\\n",
       "0  Clothing Tops Tanks Camis   \n",
       "\n",
       "                                 brand_canonical_url  \\\n",
       "0  https://www.net-a-porter.com/us/en/product/119...   \n",
       "\n",
       "                                             details  \\\n",
       "0  Fits true size normal size Cut slightly loose ...   \n",
       "\n",
       "             product_color_id attribute_name attribute_value  ... is_orange  \\\n",
       "0  01DTJCERGEHDMQ5FAJQS2PZ6NJ       neckline      Scoop Neck  ...         0   \n",
       "\n",
       "  is_navy is_brown is_red is_yellow is_multi is_green is_silver is_teal  \\\n",
       "0       0        0      0         0        0        0         0       0   \n",
       "\n",
       "  is_purple  \n",
       "0         0  \n",
       "\n",
       "[1 rows x 29 columns]"
      ]
     },
     "execution_count": 151,
     "metadata": {},
     "output_type": "execute_result"
    }
   ],
   "source": [
    "data_color.head(1)"
   ]
  },
  {
   "cell_type": "markdown",
   "metadata": {},
   "source": [
    "#### Collocation"
   ]
  },
  {
   "cell_type": "code",
   "execution_count": 152,
   "metadata": {},
   "outputs": [],
   "source": [
    "# function to start collocation\n",
    "stopwords_coll = set(stopwords.words('english') + [\".\",'.', \",\",\":\", \"''\", \"'s\", \"'\", \"``\", \"(\", \")\", \"-\",\"timestamp\",\"varchar\",\"html\",\"digit\"])\n",
    "filter_stops = lambda w: len(w) < 3 or w in stopwords_coll\n",
    "def collocation_list(data_col):\n",
    "    new_list = []\n",
    "    for i in range(0,len(data_col)):\n",
    "        words = word_tokenize(data_col[i])\n",
    "        res_words = []\n",
    "        for word in words:\n",
    "            if word not in stopwords_coll:\n",
    "                res_words.append(word)\n",
    "        new_list.append(res_words)\n",
    "    return(new_list)"
   ]
  },
  {
   "cell_type": "code",
   "execution_count": 153,
   "metadata": {},
   "outputs": [],
   "source": [
    "cols = ['brand', 'brand_category', 'description', 'name','details']\n",
    "n_list = []\n",
    "for col in cols:\n",
    "    n_list.append(collocation_list(data_color[col]))"
   ]
  },
  {
   "cell_type": "code",
   "execution_count": 154,
   "metadata": {},
   "outputs": [],
   "source": [
    "# we find that dry clean, machine wash, 'fits true to size', 'made in italy' \n",
    "# should be collated together\n",
    "\n",
    "col_list = [['Dry', 'clean'], ['Machine', 'wash'], ['true', 'size'],['fit', 'true_size'], ['Fits', 'true_size'],  \n",
    "            ['Made', 'Italy']]\n",
    "data_col = data_color['details']\n",
    "new_list = []\n",
    "clean_list = ['Dry','wash','Italy', 'size']\n",
    "for i in range(0,len(data_col)):\n",
    "    words = word_tokenize(data_col[i])\n",
    "    len_words = len(words)-1\n",
    "    for i in range(0,len_words):\n",
    "        bi_word = []\n",
    "        j = i+1\n",
    "        bi_word.append(words[i])\n",
    "        bi_word.append(words[j])\n",
    "        if(bi_word in col_list):\n",
    "            sentence = \"_\".join(bi_word)\n",
    "            words[i] = sentence\n",
    "    for word in words:\n",
    "        if word in clean_list:\n",
    "            words.remove(word)\n",
    "    res_word = []\n",
    "    for word in words:\n",
    "        res_word.append(word)\n",
    "    sentence = \" \".join(res_word)\n",
    "    new_list.append(sentence)\n",
    "data_color['details'] = new_list"
   ]
  },
  {
   "cell_type": "code",
   "execution_count": 155,
   "metadata": {},
   "outputs": [],
   "source": [
    "# we find that wide leg, ankle boot, high waist, high rise \n",
    "# should be collated together\n",
    "\n",
    "col_list = [['wide','leg'], ['ankle', 'boot'], ['High', 'Waist'], ['Wide', 'Leg'], ['High', 'Rise'], \n",
    "            ['straight', 'leg'], ['shoulder', 'bag']]\n",
    "data_col = data_color['name']\n",
    "new_list = []\n",
    "clean_list = ['leg', 'boot', 'Waist', 'Leg', 'Rise','bag']\n",
    "for i in range(0,len(data_col)):\n",
    "    words = word_tokenize(data_col[i])\n",
    "    len_words = len(words)-1\n",
    "    for i in range(0,len_words):\n",
    "        bi_word = []\n",
    "        j = i+1\n",
    "        bi_word.append(words[i])\n",
    "        bi_word.append(words[j])\n",
    "        if(bi_word in col_list):\n",
    "            sentence = \"_\".join(bi_word)\n",
    "            words[i] = sentence\n",
    "    for word in words:\n",
    "        if word in clean_list:\n",
    "            words.remove(word)\n",
    "    res_word = []\n",
    "    for word in words:\n",
    "        res_word.append(word)\n",
    "    sentence = \" \".join(res_word)\n",
    "    new_list.append(sentence)\n",
    "data_color['name'] = new_list"
   ]
  },
  {
   "cell_type": "code",
   "execution_count": 156,
   "metadata": {},
   "outputs": [],
   "source": [
    "# we find that dry clean, machine wash, made in italy, wide leg, best selling, high waisted\n",
    "# pencil skirt, high rise, and hand wash should be collocated together\n",
    "\n",
    "col_list = [['Dry','clean'], ['Machine', 'wash'], ['Made', 'Italy'], ['wide', 'leg'], ['best', 'selling'], \n",
    "            ['high', 'waisted'], ['pencil', 'skirt'], ['High', 'Rise'], ['high','rise'], ['Hand','wash']]\n",
    "data_col = data_color['description']\n",
    "new_list = []\n",
    "clean_list = ['clean', 'wash', 'Italy', 'leg', 'selling','waisted', 'skirt','Rise', 'rise']\n",
    "for i in range(0,len(data_col)):\n",
    "    words = word_tokenize(data_col[i])\n",
    "    len_words = len(words)-1\n",
    "    for i in range(0,len_words):\n",
    "        bi_word = []\n",
    "        j = i+1\n",
    "        bi_word.append(words[i])\n",
    "        bi_word.append(words[j])\n",
    "        if(bi_word in col_list):\n",
    "            sentence = \"_\".join(bi_word)\n",
    "            words[i] = sentence\n",
    "    for word in words:\n",
    "        if word in clean_list:\n",
    "            words.remove(word)\n",
    "    res_word = []\n",
    "    for word in words:\n",
    "        res_word.append(word)\n",
    "    sentence = \" \".join(res_word)\n",
    "    new_list.append(sentence)\n",
    "data_color['description'] = new_list"
   ]
  },
  {
   "cell_type": "code",
   "execution_count": 157,
   "metadata": {},
   "outputs": [
    {
     "data": {
      "text/plain": [
       "[('Banana', 'Republic'),\n",
       " ('Aleksandre', 'Akhalkatsishvili'),\n",
       " ('Isabel', 'Marant'),\n",
       " ('Ulla', 'Johnson'),\n",
       " ('Nili', 'Lotan'),\n",
       " ('Jimmy', 'Choo'),\n",
       " ('Veronica', 'Beard'),\n",
       " ('Victoria', 'Beckham'),\n",
       " ('Baum', 'und'),\n",
       " ('und', 'Pferdgarten'),\n",
       " ('Gianvito', 'Rossi'),\n",
       " ('Sally', 'LaPointe'),\n",
       " ('ATM', 'Anthony'),\n",
       " ('Anthony', 'Thomas'),\n",
       " ('Thomas', 'Melillo'),\n",
       " ('New', 'York'),\n",
       " ('Eileen', 'Fisher'),\n",
       " ('Madeleine', 'Thompson'),\n",
       " ('Alexander', 'Wang'),\n",
       " ('Saint', 'Laurent'),\n",
       " ('Carolina', 'Herrera'),\n",
       " ('Brock', 'Collection'),\n",
       " ('Elie', 'Tahari'),\n",
       " ('TWENTY', 'Montr'),\n",
       " ('Cult', 'Gaia')]"
      ]
     },
     "execution_count": 157,
     "metadata": {},
     "output_type": "execute_result"
    }
   ],
   "source": [
    "# obtain top 25 collocations by raw frequency for 'description' column\n",
    "collocation_finder = BigramCollocationFinder.from_documents(n_list[0])\n",
    "measures = BigramAssocMeasures()\n",
    "collocation_finder.apply_word_filter(filter_stops)\n",
    "collocation_finder.nbest(BigramAssocMeasures.likelihood_ratio, 25)"
   ]
  },
  {
   "cell_type": "code",
   "execution_count": 158,
   "metadata": {},
   "outputs": [],
   "source": [
    "# we find that  should be collocated together\n",
    "\n",
    "col_list = [['New', 'York'], ['Jimmy','Choo'], ['Banana','Republic'], ['Victoria','Beckham']]\n",
    "data_col = data_color['brand']\n",
    "new_list = []\n",
    "clean_list = ['York', 'Choo','Republic', 'Beckham']\n",
    "for i in range(0,len(data_col)):\n",
    "    words = word_tokenize(data_col[i])\n",
    "    len_words = len(words)-1\n",
    "    for i in range(0,len_words):\n",
    "        bi_word = []\n",
    "        j = i+1\n",
    "        bi_word.append(words[i])\n",
    "        bi_word.append(words[j])\n",
    "        if(bi_word in col_list):\n",
    "            sentence = \"_\".join(bi_word)\n",
    "            words[i] = sentence\n",
    "    for word in words:\n",
    "        if word in clean_list:\n",
    "            words.remove(word)\n",
    "    res_word = []\n",
    "    for word in words:\n",
    "        res_word.append(word)\n",
    "    sentence = \" \".join(res_word)\n",
    "    new_list.append(sentence)\n",
    "data_color['brand'] = new_list"
   ]
  },
  {
   "cell_type": "code",
   "execution_count": 159,
   "metadata": {},
   "outputs": [
    {
     "data": {
      "text/plain": [
       "[('woman', 'CLOTHING'),\n",
       " ('CLOTHING', 'TOPS'),\n",
       " ('shirt', 'top'),\n",
       " ('CLOTHING', 'DRESSES'),\n",
       " ('Boots', 'Ankle'),\n",
       " ('woman', 'SHOES'),\n",
       " ('Giftsjsholiday', 'HolidayGiftGuide19'),\n",
       " ('HolidayGiftGuide19', 'GiftsForHersakstimestamp'),\n",
       " ('Clothing', 'Tops'),\n",
       " ('Handbags', 'Handbags'),\n",
       " ('Mid', 'Heel'),\n",
       " ('CLOTHING', 'PANTS'),\n",
       " ('Tops', 'Blouses'),\n",
       " ('WomensApparel', 'TopsShirtsBlouses'),\n",
       " ('Shoes', 'Boots'),\n",
       " ('Bags', 'Shoulder'),\n",
       " ('Shoulder', 'Bags'),\n",
       " ('ApparelAccessories', 'HandbagsShoes'),\n",
       " ('CLOTHING', 'SKIRTS'),\n",
       " ('Handbags', 'NewPopular'),\n",
       " ('OLD', 'ApparelAccessories'),\n",
       " ('SHOES', 'SANDALS'),\n",
       " ('PantsShortsJumpsuits', 'Trousers'),\n",
       " ('Clothing', 'Knitwear'),\n",
       " ('Medium', 'Knit')]"
      ]
     },
     "execution_count": 159,
     "metadata": {},
     "output_type": "execute_result"
    }
   ],
   "source": [
    "# obtain top 25 collocations by raw frequency for 'description' column\n",
    "collocation_finder = BigramCollocationFinder.from_documents(n_list[1])\n",
    "measures = BigramAssocMeasures()\n",
    "collocation_finder.apply_word_filter(filter_stops)\n",
    "collocation_finder.nbest(BigramAssocMeasures.likelihood_ratio, 25)"
   ]
  },
  {
   "cell_type": "code",
   "execution_count": 160,
   "metadata": {},
   "outputs": [],
   "source": [
    "col_list = [['Mid', 'Heel'], ['Shoulder', 'Bags']]\n",
    "data_col = data_color['brand_category']\n",
    "new_list = []\n",
    "clean_list = ['Heel', 'Bags']\n",
    "for i in range(0,len(data_col)):\n",
    "    words = word_tokenize(data_col[i])\n",
    "    len_words = len(words)-1\n",
    "    for i in range(0,len_words):\n",
    "        bi_word = []\n",
    "        j = i+1\n",
    "        bi_word.append(words[i])\n",
    "        bi_word.append(words[j])\n",
    "        if(bi_word in col_list):\n",
    "            sentence = \"_\".join(bi_word)\n",
    "            words[i] = sentence\n",
    "    for word in words:\n",
    "        if word in clean_list:\n",
    "            words.remove(word)\n",
    "    res_word = []\n",
    "    for word in words:\n",
    "        res_word.append(word)\n",
    "    sentence = \" \".join(res_word)\n",
    "    new_list.append(sentence)\n",
    "data_color['brand_category'] = new_list"
   ]
  },
  {
   "cell_type": "code",
   "execution_count": 166,
   "metadata": {},
   "outputs": [
    {
     "data": {
      "text/plain": [
       "array([0.0, 1.0, 'UNKNOWNTOKEN'], dtype=object)"
      ]
     },
     "execution_count": 166,
     "metadata": {},
     "output_type": "execute_result"
    }
   ],
   "source": [
    "data_color['is_black'].unique()"
   ]
  },
  {
   "cell_type": "code",
   "execution_count": 168,
   "metadata": {},
   "outputs": [],
   "source": [
    "data_color = data_color[data_color['is_black'] != 'UNKNOWNTOKEN']"
   ]
  },
  {
   "cell_type": "code",
   "execution_count": 169,
   "metadata": {},
   "outputs": [],
   "source": [
    "# export to CSV to use in next notebook\n",
    "data_color.to_csv('data_color.csv')"
   ]
  },
  {
   "cell_type": "code",
   "execution_count": 170,
   "metadata": {},
   "outputs": [
    {
     "data": {
      "text/html": [
       "<div>\n",
       "<style scoped>\n",
       "    .dataframe tbody tr th:only-of-type {\n",
       "        vertical-align: middle;\n",
       "    }\n",
       "\n",
       "    .dataframe tbody tr th {\n",
       "        vertical-align: top;\n",
       "    }\n",
       "\n",
       "    .dataframe thead th {\n",
       "        text-align: right;\n",
       "    }\n",
       "</style>\n",
       "<table border=\"1\" class=\"dataframe\">\n",
       "  <thead>\n",
       "    <tr style=\"text-align: right;\">\n",
       "      <th></th>\n",
       "      <th>product_id</th>\n",
       "      <th>brand</th>\n",
       "      <th>name</th>\n",
       "      <th>description</th>\n",
       "      <th>brand_category</th>\n",
       "      <th>brand_canonical_url</th>\n",
       "      <th>details</th>\n",
       "      <th>product_color_id</th>\n",
       "      <th>attribute_name</th>\n",
       "      <th>attribute_value</th>\n",
       "      <th>...</th>\n",
       "      <th>is_orange</th>\n",
       "      <th>is_navy</th>\n",
       "      <th>is_brown</th>\n",
       "      <th>is_red</th>\n",
       "      <th>is_yellow</th>\n",
       "      <th>is_multi</th>\n",
       "      <th>is_green</th>\n",
       "      <th>is_silver</th>\n",
       "      <th>is_teal</th>\n",
       "      <th>is_purple</th>\n",
       "    </tr>\n",
       "  </thead>\n",
       "  <tbody>\n",
       "    <tr>\n",
       "      <th>0</th>\n",
       "      <td>01DTJCERF6F4NRZ2WSJFFA1EYS</td>\n",
       "      <td>Theory</td>\n",
       "      <td>Teah stretch silk camisole</td>\n",
       "      <td>Beige stretch silk Slips digit silk digit span...</td>\n",
       "      <td>Clothing Tops Tanks Camis</td>\n",
       "      <td>https://www.net-a-porter.com/us/en/product/119...</td>\n",
       "      <td>Fits true_size normal Cut slightly loose fit L...</td>\n",
       "      <td>01DTJCERGEHDMQ5FAJQS2PZ6NJ</td>\n",
       "      <td>neckline</td>\n",
       "      <td>Scoop Neck</td>\n",
       "      <td>...</td>\n",
       "      <td>0</td>\n",
       "      <td>0</td>\n",
       "      <td>0</td>\n",
       "      <td>0</td>\n",
       "      <td>0</td>\n",
       "      <td>0</td>\n",
       "      <td>0</td>\n",
       "      <td>0</td>\n",
       "      <td>0</td>\n",
       "      <td>0</td>\n",
       "    </tr>\n",
       "    <tr>\n",
       "      <th>1</th>\n",
       "      <td>01DTJCERF6F4NRZ2WSJFFA1EYS</td>\n",
       "      <td>Theory</td>\n",
       "      <td>Teah stretch silk camisole</td>\n",
       "      <td>Beige stretch silk Slips digit silk digit span...</td>\n",
       "      <td>Clothing Tops Tanks Camis</td>\n",
       "      <td>https://www.net-a-porter.com/us/en/product/119...</td>\n",
       "      <td>Fits true_size normal Cut slightly loose fit L...</td>\n",
       "      <td>01DTJCERGEHDMQ5FAJQS2PZ6NJ</td>\n",
       "      <td>sizing</td>\n",
       "      <td>Regular</td>\n",
       "      <td>...</td>\n",
       "      <td>0</td>\n",
       "      <td>0</td>\n",
       "      <td>0</td>\n",
       "      <td>0</td>\n",
       "      <td>0</td>\n",
       "      <td>0</td>\n",
       "      <td>0</td>\n",
       "      <td>0</td>\n",
       "      <td>0</td>\n",
       "      <td>0</td>\n",
       "    </tr>\n",
       "    <tr>\n",
       "      <th>2</th>\n",
       "      <td>01DTJCERF6F4NRZ2WSJFFA1EYS</td>\n",
       "      <td>Theory</td>\n",
       "      <td>Teah stretch silk camisole</td>\n",
       "      <td>Beige stretch silk Slips digit silk digit span...</td>\n",
       "      <td>Clothing Tops Tanks Camis</td>\n",
       "      <td>https://www.net-a-porter.com/us/en/product/119...</td>\n",
       "      <td>Fits true_size normal Cut slightly loose fit L...</td>\n",
       "      <td>01DTJCERGEHDMQ5FAJQS2PZ6NJ</td>\n",
       "      <td>occasion</td>\n",
       "      <td>Weekend</td>\n",
       "      <td>...</td>\n",
       "      <td>0</td>\n",
       "      <td>0</td>\n",
       "      <td>0</td>\n",
       "      <td>0</td>\n",
       "      <td>0</td>\n",
       "      <td>0</td>\n",
       "      <td>0</td>\n",
       "      <td>0</td>\n",
       "      <td>0</td>\n",
       "      <td>0</td>\n",
       "    </tr>\n",
       "    <tr>\n",
       "      <th>3</th>\n",
       "      <td>01DTJCERF6F4NRZ2WSJFFA1EYS</td>\n",
       "      <td>Theory</td>\n",
       "      <td>Teah stretch silk camisole</td>\n",
       "      <td>Beige stretch silk Slips digit silk digit span...</td>\n",
       "      <td>Clothing Tops Tanks Camis</td>\n",
       "      <td>https://www.net-a-porter.com/us/en/product/119...</td>\n",
       "      <td>Fits true_size normal Cut slightly loose fit L...</td>\n",
       "      <td>01DTJCERGEHDMQ5FAJQS2PZ6NJ</td>\n",
       "      <td>occasion</td>\n",
       "      <td>Work</td>\n",
       "      <td>...</td>\n",
       "      <td>0</td>\n",
       "      <td>0</td>\n",
       "      <td>0</td>\n",
       "      <td>0</td>\n",
       "      <td>0</td>\n",
       "      <td>0</td>\n",
       "      <td>0</td>\n",
       "      <td>0</td>\n",
       "      <td>0</td>\n",
       "      <td>0</td>\n",
       "    </tr>\n",
       "    <tr>\n",
       "      <th>4</th>\n",
       "      <td>01DTJCERF6F4NRZ2WSJFFA1EYS</td>\n",
       "      <td>Theory</td>\n",
       "      <td>Teah stretch silk camisole</td>\n",
       "      <td>Beige stretch silk Slips digit silk digit span...</td>\n",
       "      <td>Clothing Tops Tanks Camis</td>\n",
       "      <td>https://www.net-a-porter.com/us/en/product/119...</td>\n",
       "      <td>Fits true_size normal Cut slightly loose fit L...</td>\n",
       "      <td>01DTJCERGEHDMQ5FAJQS2PZ6NJ</td>\n",
       "      <td>length_top</td>\n",
       "      <td>Mid-Length (at hips)</td>\n",
       "      <td>...</td>\n",
       "      <td>0</td>\n",
       "      <td>0</td>\n",
       "      <td>0</td>\n",
       "      <td>0</td>\n",
       "      <td>0</td>\n",
       "      <td>0</td>\n",
       "      <td>0</td>\n",
       "      <td>0</td>\n",
       "      <td>0</td>\n",
       "      <td>0</td>\n",
       "    </tr>\n",
       "  </tbody>\n",
       "</table>\n",
       "<p>5 rows × 29 columns</p>\n",
       "</div>"
      ],
      "text/plain": [
       "                   product_id   brand                        name  \\\n",
       "0  01DTJCERF6F4NRZ2WSJFFA1EYS  Theory  Teah stretch silk camisole   \n",
       "1  01DTJCERF6F4NRZ2WSJFFA1EYS  Theory  Teah stretch silk camisole   \n",
       "2  01DTJCERF6F4NRZ2WSJFFA1EYS  Theory  Teah stretch silk camisole   \n",
       "3  01DTJCERF6F4NRZ2WSJFFA1EYS  Theory  Teah stretch silk camisole   \n",
       "4  01DTJCERF6F4NRZ2WSJFFA1EYS  Theory  Teah stretch silk camisole   \n",
       "\n",
       "                                         description  \\\n",
       "0  Beige stretch silk Slips digit silk digit span...   \n",
       "1  Beige stretch silk Slips digit silk digit span...   \n",
       "2  Beige stretch silk Slips digit silk digit span...   \n",
       "3  Beige stretch silk Slips digit silk digit span...   \n",
       "4  Beige stretch silk Slips digit silk digit span...   \n",
       "\n",
       "              brand_category  \\\n",
       "0  Clothing Tops Tanks Camis   \n",
       "1  Clothing Tops Tanks Camis   \n",
       "2  Clothing Tops Tanks Camis   \n",
       "3  Clothing Tops Tanks Camis   \n",
       "4  Clothing Tops Tanks Camis   \n",
       "\n",
       "                                 brand_canonical_url  \\\n",
       "0  https://www.net-a-porter.com/us/en/product/119...   \n",
       "1  https://www.net-a-porter.com/us/en/product/119...   \n",
       "2  https://www.net-a-porter.com/us/en/product/119...   \n",
       "3  https://www.net-a-porter.com/us/en/product/119...   \n",
       "4  https://www.net-a-porter.com/us/en/product/119...   \n",
       "\n",
       "                                             details  \\\n",
       "0  Fits true_size normal Cut slightly loose fit L...   \n",
       "1  Fits true_size normal Cut slightly loose fit L...   \n",
       "2  Fits true_size normal Cut slightly loose fit L...   \n",
       "3  Fits true_size normal Cut slightly loose fit L...   \n",
       "4  Fits true_size normal Cut slightly loose fit L...   \n",
       "\n",
       "             product_color_id attribute_name       attribute_value  ...  \\\n",
       "0  01DTJCERGEHDMQ5FAJQS2PZ6NJ       neckline            Scoop Neck  ...   \n",
       "1  01DTJCERGEHDMQ5FAJQS2PZ6NJ         sizing               Regular  ...   \n",
       "2  01DTJCERGEHDMQ5FAJQS2PZ6NJ       occasion               Weekend  ...   \n",
       "3  01DTJCERGEHDMQ5FAJQS2PZ6NJ       occasion                  Work  ...   \n",
       "4  01DTJCERGEHDMQ5FAJQS2PZ6NJ     length_top  Mid-Length (at hips)  ...   \n",
       "\n",
       "  is_orange is_navy is_brown is_red is_yellow is_multi is_green is_silver  \\\n",
       "0         0       0        0      0         0        0        0         0   \n",
       "1         0       0        0      0         0        0        0         0   \n",
       "2         0       0        0      0         0        0        0         0   \n",
       "3         0       0        0      0         0        0        0         0   \n",
       "4         0       0        0      0         0        0        0         0   \n",
       "\n",
       "  is_teal is_purple  \n",
       "0       0         0  \n",
       "1       0         0  \n",
       "2       0         0  \n",
       "3       0         0  \n",
       "4       0         0  \n",
       "\n",
       "[5 rows x 29 columns]"
      ]
     },
     "execution_count": 170,
     "metadata": {},
     "output_type": "execute_result"
    }
   ],
   "source": [
    "data_color.head()"
   ]
  },
  {
   "cell_type": "code",
   "execution_count": null,
   "metadata": {},
   "outputs": [],
   "source": []
  },
  {
   "cell_type": "code",
   "execution_count": null,
   "metadata": {},
   "outputs": [],
   "source": []
  },
  {
   "cell_type": "code",
   "execution_count": null,
   "metadata": {},
   "outputs": [],
   "source": []
  },
  {
   "cell_type": "code",
   "execution_count": null,
   "metadata": {},
   "outputs": [],
   "source": []
  }
 ],
 "metadata": {
  "kernelspec": {
   "display_name": "Python 3",
   "language": "python",
   "name": "python3"
  },
  "language_info": {
   "codemirror_mode": {
    "name": "ipython",
    "version": 3
   },
   "file_extension": ".py",
   "mimetype": "text/x-python",
   "name": "python",
   "nbconvert_exporter": "python",
   "pygments_lexer": "ipython3",
   "version": "3.7.3"
  }
 },
 "nbformat": 4,
 "nbformat_minor": 2
}
